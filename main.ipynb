{
  "cells": [
    {
      "cell_type": "code",
      "execution_count": 1,
      "metadata": {
        "colab": {
          "base_uri": "https://localhost:8080/"
        },
        "id": "AiojfKhq9jk-",
        "outputId": "78d0b0b1-26fe-4a48-9e23-3c4cec16fc70"
      },
      "outputs": [],
      "source": [
        "# Google Colab\n",
        "\n",
        "google_colab = False\n",
        "if google_colab:\n",
        "    # !pip install emoji\n",
        "    import nltk\n",
        "    nltk.download('punkt')\n",
        "    nltk.download('stopwords')"
      ]
    },
    {
      "cell_type": "code",
      "execution_count": 2,
      "metadata": {
        "id": "FyFV0NJS9Rfk"
      },
      "outputs": [],
      "source": [
        "import pandas as pd\n",
        "import matplotlib.pyplot as plt\n",
        "import emoji # for demojize\n",
        "import re # for regular expression\n",
        "from nltk.tokenize import word_tokenize\n",
        "from nltk.corpus import stopwords\n",
        "import spacy\n",
        "from wordcloud import WordCloud\n",
        "import numpy as np\n",
        "from sklearn.model_selection import train_test_split\n",
        "from sklearn.feature_extraction.text import CountVectorizer, TfidfVectorizer\n",
        "from sklearn.linear_model import LogisticRegression\n",
        "from sklearn.pipeline import Pipeline\n",
        "from sklearn.metrics import accuracy_score, classification_report\n",
        "from sklearn.compose import ColumnTransformer # for Pipeline\n",
        "from sklearn.naive_bayes import MultinomialNB\n",
        "from transformers import AutoTokenizer, AutoModelForSequenceClassification\n",
        "import torch\n",
        "from torch.utils.data import DataLoader, TensorDataset\n",
        "from torch.optim import AdamW, Adam\n",
        "from vaderSentiment.vaderSentiment import SentimentIntensityAnalyzer\n",
        "from sklearn.ensemble import RandomForestClassifier\n",
        "from transformers import DistilBertTokenizer, DistilBertForSequenceClassification\n",
        "from transformers import BertTokenizer, BertForSequenceClassification\n",
        "from transformers import RobertaTokenizer, RobertaForSequenceClassification"
      ]
    },
    {
      "cell_type": "markdown",
      "metadata": {
        "id": "HVp0avLn9Rfi"
      },
      "source": [
        "# 1 - Analysis of the dataset"
      ]
    },
    {
      "cell_type": "markdown",
      "metadata": {
        "id": "mJ2FQk4-9Rfl"
      },
      "source": [
        "#### 1.1 - Loading the  dataset"
      ]
    },
    {
      "cell_type": "code",
      "execution_count": 3,
      "metadata": {
        "colab": {
          "base_uri": "https://localhost:8080/",
          "height": 452
        },
        "id": "8PE5M6JJ9Rfm",
        "outputId": "b22221a5-01c3-4889-f89d-62bc9d22c601"
      },
      "outputs": [
        {
          "data": {
            "text/html": [
              "<div>\n",
              "<style scoped>\n",
              "    .dataframe tbody tr th:only-of-type {\n",
              "        vertical-align: middle;\n",
              "    }\n",
              "\n",
              "    .dataframe tbody tr th {\n",
              "        vertical-align: top;\n",
              "    }\n",
              "\n",
              "    .dataframe thead th {\n",
              "        text-align: right;\n",
              "    }\n",
              "</style>\n",
              "<table border=\"1\" class=\"dataframe\">\n",
              "  <thead>\n",
              "    <tr style=\"text-align: right;\">\n",
              "      <th></th>\n",
              "      <th>tweet_id</th>\n",
              "      <th>airline_sentiment</th>\n",
              "      <th>airline_sentiment_confidence</th>\n",
              "      <th>negativereason</th>\n",
              "      <th>negativereason_confidence</th>\n",
              "      <th>airline</th>\n",
              "      <th>airline_sentiment_gold</th>\n",
              "      <th>name</th>\n",
              "      <th>negativereason_gold</th>\n",
              "      <th>retweet_count</th>\n",
              "      <th>text</th>\n",
              "      <th>tweet_coord</th>\n",
              "      <th>tweet_created</th>\n",
              "      <th>tweet_location</th>\n",
              "      <th>user_timezone</th>\n",
              "    </tr>\n",
              "  </thead>\n",
              "  <tbody>\n",
              "    <tr>\n",
              "      <th>0</th>\n",
              "      <td>570306133677760513</td>\n",
              "      <td>neutral</td>\n",
              "      <td>1.0000</td>\n",
              "      <td>NaN</td>\n",
              "      <td>NaN</td>\n",
              "      <td>Virgin America</td>\n",
              "      <td>NaN</td>\n",
              "      <td>cairdin</td>\n",
              "      <td>NaN</td>\n",
              "      <td>0</td>\n",
              "      <td>@VirginAmerica What @dhepburn said.</td>\n",
              "      <td>NaN</td>\n",
              "      <td>2015-02-24 11:35:52 -0800</td>\n",
              "      <td>NaN</td>\n",
              "      <td>Eastern Time (US &amp; Canada)</td>\n",
              "    </tr>\n",
              "    <tr>\n",
              "      <th>1</th>\n",
              "      <td>570301130888122368</td>\n",
              "      <td>positive</td>\n",
              "      <td>0.3486</td>\n",
              "      <td>NaN</td>\n",
              "      <td>0.0000</td>\n",
              "      <td>Virgin America</td>\n",
              "      <td>NaN</td>\n",
              "      <td>jnardino</td>\n",
              "      <td>NaN</td>\n",
              "      <td>0</td>\n",
              "      <td>@VirginAmerica plus you've added commercials t...</td>\n",
              "      <td>NaN</td>\n",
              "      <td>2015-02-24 11:15:59 -0800</td>\n",
              "      <td>NaN</td>\n",
              "      <td>Pacific Time (US &amp; Canada)</td>\n",
              "    </tr>\n",
              "    <tr>\n",
              "      <th>2</th>\n",
              "      <td>570301083672813571</td>\n",
              "      <td>neutral</td>\n",
              "      <td>0.6837</td>\n",
              "      <td>NaN</td>\n",
              "      <td>NaN</td>\n",
              "      <td>Virgin America</td>\n",
              "      <td>NaN</td>\n",
              "      <td>yvonnalynn</td>\n",
              "      <td>NaN</td>\n",
              "      <td>0</td>\n",
              "      <td>@VirginAmerica I didn't today... Must mean I n...</td>\n",
              "      <td>NaN</td>\n",
              "      <td>2015-02-24 11:15:48 -0800</td>\n",
              "      <td>Lets Play</td>\n",
              "      <td>Central Time (US &amp; Canada)</td>\n",
              "    </tr>\n",
              "    <tr>\n",
              "      <th>3</th>\n",
              "      <td>570301031407624196</td>\n",
              "      <td>negative</td>\n",
              "      <td>1.0000</td>\n",
              "      <td>Bad Flight</td>\n",
              "      <td>0.7033</td>\n",
              "      <td>Virgin America</td>\n",
              "      <td>NaN</td>\n",
              "      <td>jnardino</td>\n",
              "      <td>NaN</td>\n",
              "      <td>0</td>\n",
              "      <td>@VirginAmerica it's really aggressive to blast...</td>\n",
              "      <td>NaN</td>\n",
              "      <td>2015-02-24 11:15:36 -0800</td>\n",
              "      <td>NaN</td>\n",
              "      <td>Pacific Time (US &amp; Canada)</td>\n",
              "    </tr>\n",
              "    <tr>\n",
              "      <th>4</th>\n",
              "      <td>570300817074462722</td>\n",
              "      <td>negative</td>\n",
              "      <td>1.0000</td>\n",
              "      <td>Can't Tell</td>\n",
              "      <td>1.0000</td>\n",
              "      <td>Virgin America</td>\n",
              "      <td>NaN</td>\n",
              "      <td>jnardino</td>\n",
              "      <td>NaN</td>\n",
              "      <td>0</td>\n",
              "      <td>@VirginAmerica and it's a really big bad thing...</td>\n",
              "      <td>NaN</td>\n",
              "      <td>2015-02-24 11:14:45 -0800</td>\n",
              "      <td>NaN</td>\n",
              "      <td>Pacific Time (US &amp; Canada)</td>\n",
              "    </tr>\n",
              "  </tbody>\n",
              "</table>\n",
              "</div>"
            ],
            "text/plain": [
              "             tweet_id airline_sentiment  airline_sentiment_confidence  \\\n",
              "0  570306133677760513           neutral                        1.0000   \n",
              "1  570301130888122368          positive                        0.3486   \n",
              "2  570301083672813571           neutral                        0.6837   \n",
              "3  570301031407624196          negative                        1.0000   \n",
              "4  570300817074462722          negative                        1.0000   \n",
              "\n",
              "  negativereason  negativereason_confidence         airline  \\\n",
              "0            NaN                        NaN  Virgin America   \n",
              "1            NaN                     0.0000  Virgin America   \n",
              "2            NaN                        NaN  Virgin America   \n",
              "3     Bad Flight                     0.7033  Virgin America   \n",
              "4     Can't Tell                     1.0000  Virgin America   \n",
              "\n",
              "  airline_sentiment_gold        name negativereason_gold  retweet_count  \\\n",
              "0                    NaN     cairdin                 NaN              0   \n",
              "1                    NaN    jnardino                 NaN              0   \n",
              "2                    NaN  yvonnalynn                 NaN              0   \n",
              "3                    NaN    jnardino                 NaN              0   \n",
              "4                    NaN    jnardino                 NaN              0   \n",
              "\n",
              "                                                text tweet_coord  \\\n",
              "0                @VirginAmerica What @dhepburn said.         NaN   \n",
              "1  @VirginAmerica plus you've added commercials t...         NaN   \n",
              "2  @VirginAmerica I didn't today... Must mean I n...         NaN   \n",
              "3  @VirginAmerica it's really aggressive to blast...         NaN   \n",
              "4  @VirginAmerica and it's a really big bad thing...         NaN   \n",
              "\n",
              "               tweet_created tweet_location               user_timezone  \n",
              "0  2015-02-24 11:35:52 -0800            NaN  Eastern Time (US & Canada)  \n",
              "1  2015-02-24 11:15:59 -0800            NaN  Pacific Time (US & Canada)  \n",
              "2  2015-02-24 11:15:48 -0800      Lets Play  Central Time (US & Canada)  \n",
              "3  2015-02-24 11:15:36 -0800            NaN  Pacific Time (US & Canada)  \n",
              "4  2015-02-24 11:14:45 -0800            NaN  Pacific Time (US & Canada)  "
            ]
          },
          "execution_count": 3,
          "metadata": {},
          "output_type": "execute_result"
        }
      ],
      "source": [
        "df = pd.read_csv(\"content/Tweets.csv\")\n",
        "\n",
        "df.head()"
      ]
    },
    {
      "cell_type": "code",
      "execution_count": 4,
      "metadata": {
        "colab": {
          "base_uri": "https://localhost:8080/"
        },
        "id": "AVBwddY59Rfm",
        "outputId": "5dc90702-efeb-4202-d89d-63506c42262b"
      },
      "outputs": [
        {
          "data": {
            "text/plain": [
              "(14640, 15)"
            ]
          },
          "execution_count": 4,
          "metadata": {},
          "output_type": "execute_result"
        }
      ],
      "source": [
        "df.shape"
      ]
    },
    {
      "cell_type": "markdown",
      "metadata": {
        "id": "nkI3JBSX9Rfn"
      },
      "source": [
        "So, the dataset contains 14640 entries and has 15 columns. The ones that we are interested in are \"airline_sentiment\" and \"text\". It represents the sentiment felt by the author of the tweet about US Airlines, 3 possible cases : positive, neutral, negative. At first glance, I don't think that the other columns are relevant in our project as we don't want the model to overfit on for instance Twitter's username or airline."
      ]
    },
    {
      "cell_type": "markdown",
      "metadata": {
        "id": "_sJ8eGOY9Rfn"
      },
      "source": [
        "#### 1.2 - Removing duplications"
      ]
    },
    {
      "cell_type": "code",
      "execution_count": 5,
      "metadata": {
        "colab": {
          "base_uri": "https://localhost:8080/",
          "height": 999
        },
        "id": "IObkb0rv9Rfo",
        "outputId": "344a22d1-78c9-472a-fa5a-12e866696a06"
      },
      "outputs": [
        {
          "data": {
            "text/html": [
              "<div>\n",
              "<style scoped>\n",
              "    .dataframe tbody tr th:only-of-type {\n",
              "        vertical-align: middle;\n",
              "    }\n",
              "\n",
              "    .dataframe tbody tr th {\n",
              "        vertical-align: top;\n",
              "    }\n",
              "\n",
              "    .dataframe thead th {\n",
              "        text-align: right;\n",
              "    }\n",
              "</style>\n",
              "<table border=\"1\" class=\"dataframe\">\n",
              "  <thead>\n",
              "    <tr style=\"text-align: right;\">\n",
              "      <th></th>\n",
              "      <th>tweet_id</th>\n",
              "      <th>airline_sentiment</th>\n",
              "      <th>airline_sentiment_confidence</th>\n",
              "      <th>negativereason</th>\n",
              "      <th>negativereason_confidence</th>\n",
              "      <th>airline</th>\n",
              "      <th>airline_sentiment_gold</th>\n",
              "      <th>name</th>\n",
              "      <th>negativereason_gold</th>\n",
              "      <th>retweet_count</th>\n",
              "      <th>text</th>\n",
              "      <th>tweet_coord</th>\n",
              "      <th>tweet_created</th>\n",
              "      <th>tweet_location</th>\n",
              "      <th>user_timezone</th>\n",
              "    </tr>\n",
              "  </thead>\n",
              "  <tbody>\n",
              "    <tr>\n",
              "      <th>12033</th>\n",
              "      <td>569600137296633856</td>\n",
              "      <td>positive</td>\n",
              "      <td>0.9236</td>\n",
              "      <td>NaN</td>\n",
              "      <td>0.0000</td>\n",
              "      <td>American</td>\n",
              "      <td>positive</td>\n",
              "      <td>douglaskgordon</td>\n",
              "      <td>NaN</td>\n",
              "      <td>0</td>\n",
              "      <td>@AmericanAir Thank you.....you do the same!!</td>\n",
              "      <td>NaN</td>\n",
              "      <td>2015-02-22 12:50:30 -0800</td>\n",
              "      <td>Caribbean, New York and Miami.</td>\n",
              "      <td>Indiana (East)</td>\n",
              "    </tr>\n",
              "    <tr>\n",
              "      <th>14556</th>\n",
              "      <td>569600137296633856</td>\n",
              "      <td>positive</td>\n",
              "      <td>1.0000</td>\n",
              "      <td>NaN</td>\n",
              "      <td>NaN</td>\n",
              "      <td>American</td>\n",
              "      <td>NaN</td>\n",
              "      <td>douglaskgordon</td>\n",
              "      <td>NaN</td>\n",
              "      <td>0</td>\n",
              "      <td>@AmericanAir Thank you.....you do the same!!</td>\n",
              "      <td>NaN</td>\n",
              "      <td>2015-02-22 12:50:30 -0800</td>\n",
              "      <td>Caribbean, New York and Miami.</td>\n",
              "      <td>Indiana (East)</td>\n",
              "    </tr>\n",
              "    <tr>\n",
              "      <th>14543</th>\n",
              "      <td>569601363799359488</td>\n",
              "      <td>negative</td>\n",
              "      <td>1.0000</td>\n",
              "      <td>Flight Attendant Complaints</td>\n",
              "      <td>1.0000</td>\n",
              "      <td>American</td>\n",
              "      <td>NaN</td>\n",
              "      <td>stevereasnors</td>\n",
              "      <td>NaN</td>\n",
              "      <td>0</td>\n",
              "      <td>@AmericanAir should reconsider #usairways acqu...</td>\n",
              "      <td>NaN</td>\n",
              "      <td>2015-02-22 12:55:22 -0800</td>\n",
              "      <td>Los Angeles</td>\n",
              "      <td>Pacific Time (US &amp; Canada)</td>\n",
              "    </tr>\n",
              "    <tr>\n",
              "      <th>12032</th>\n",
              "      <td>569601363799359488</td>\n",
              "      <td>negative</td>\n",
              "      <td>0.9553</td>\n",
              "      <td>Flight Attendant Complaints</td>\n",
              "      <td>0.9553</td>\n",
              "      <td>American</td>\n",
              "      <td>negative</td>\n",
              "      <td>stevereasnors</td>\n",
              "      <td>Flight Attendant Complaints</td>\n",
              "      <td>0</td>\n",
              "      <td>@AmericanAir should reconsider #usairways acqu...</td>\n",
              "      <td>NaN</td>\n",
              "      <td>2015-02-22 12:55:22 -0800</td>\n",
              "      <td>Los Angeles</td>\n",
              "      <td>Pacific Time (US &amp; Canada)</td>\n",
              "    </tr>\n",
              "    <tr>\n",
              "      <th>12031</th>\n",
              "      <td>569621879633391616</td>\n",
              "      <td>negative</td>\n",
              "      <td>1.0000</td>\n",
              "      <td>Customer Service Issue</td>\n",
              "      <td>1.0000</td>\n",
              "      <td>American</td>\n",
              "      <td>negative</td>\n",
              "      <td>salitron78</td>\n",
              "      <td>Customer Service Issue</td>\n",
              "      <td>0</td>\n",
              "      <td>@AmericanAir no response to DM or email yet.  ...</td>\n",
              "      <td>NaN</td>\n",
              "      <td>2015-02-22 14:16:53 -0800</td>\n",
              "      <td>on @TheJR</td>\n",
              "      <td>Seoul</td>\n",
              "    </tr>\n",
              "    <tr>\n",
              "      <th>...</th>\n",
              "      <td>...</td>\n",
              "      <td>...</td>\n",
              "      <td>...</td>\n",
              "      <td>...</td>\n",
              "      <td>...</td>\n",
              "      <td>...</td>\n",
              "      <td>...</td>\n",
              "      <td>...</td>\n",
              "      <td>...</td>\n",
              "      <td>...</td>\n",
              "      <td>...</td>\n",
              "      <td>...</td>\n",
              "      <td>...</td>\n",
              "      <td>...</td>\n",
              "      <td>...</td>\n",
              "    </tr>\n",
              "    <tr>\n",
              "      <th>12042</th>\n",
              "      <td>570307949614256128</td>\n",
              "      <td>negative</td>\n",
              "      <td>1.0000</td>\n",
              "      <td>Can't Tell</td>\n",
              "      <td>1.0000</td>\n",
              "      <td>American</td>\n",
              "      <td>NaN</td>\n",
              "      <td>ELLLORRAC</td>\n",
              "      <td>NaN</td>\n",
              "      <td>0</td>\n",
              "      <td>@AmericanAir thanks for getting back to me. Bu...</td>\n",
              "      <td>NaN</td>\n",
              "      <td>2015-02-24 11:43:05 -0800</td>\n",
              "      <td>NaN</td>\n",
              "      <td>Central Time (US &amp; Canada)</td>\n",
              "    </tr>\n",
              "    <tr>\n",
              "      <th>11880</th>\n",
              "      <td>570308064185880577</td>\n",
              "      <td>neutral</td>\n",
              "      <td>0.6667</td>\n",
              "      <td>NaN</td>\n",
              "      <td>NaN</td>\n",
              "      <td>American</td>\n",
              "      <td>NaN</td>\n",
              "      <td>LancasterPattie</td>\n",
              "      <td>NaN</td>\n",
              "      <td>0</td>\n",
              "      <td>@AmericanAir we've already made other arrangem...</td>\n",
              "      <td>NaN</td>\n",
              "      <td>2015-02-24 11:43:32 -0800</td>\n",
              "      <td>NaN</td>\n",
              "      <td>NaN</td>\n",
              "    </tr>\n",
              "    <tr>\n",
              "      <th>12041</th>\n",
              "      <td>570308064185880577</td>\n",
              "      <td>neutral</td>\n",
              "      <td>0.6755</td>\n",
              "      <td>NaN</td>\n",
              "      <td>0.0000</td>\n",
              "      <td>American</td>\n",
              "      <td>NaN</td>\n",
              "      <td>LancasterPattie</td>\n",
              "      <td>NaN</td>\n",
              "      <td>0</td>\n",
              "      <td>@AmericanAir we've already made other arrangem...</td>\n",
              "      <td>NaN</td>\n",
              "      <td>2015-02-24 11:43:32 -0800</td>\n",
              "      <td>NaN</td>\n",
              "      <td>NaN</td>\n",
              "    </tr>\n",
              "    <tr>\n",
              "      <th>12040</th>\n",
              "      <td>570308309682675712</td>\n",
              "      <td>negative</td>\n",
              "      <td>1.0000</td>\n",
              "      <td>Customer Service Issue</td>\n",
              "      <td>1.0000</td>\n",
              "      <td>American</td>\n",
              "      <td>NaN</td>\n",
              "      <td>SweeLoTmac</td>\n",
              "      <td>NaN</td>\n",
              "      <td>0</td>\n",
              "      <td>@AmericanAir why would I even consider continu...</td>\n",
              "      <td>NaN</td>\n",
              "      <td>2015-02-24 11:44:31 -0800</td>\n",
              "      <td>NaN</td>\n",
              "      <td>Quito</td>\n",
              "    </tr>\n",
              "    <tr>\n",
              "      <th>11879</th>\n",
              "      <td>570308309682675712</td>\n",
              "      <td>negative</td>\n",
              "      <td>1.0000</td>\n",
              "      <td>Customer Service Issue</td>\n",
              "      <td>1.0000</td>\n",
              "      <td>American</td>\n",
              "      <td>NaN</td>\n",
              "      <td>SweeLoTmac</td>\n",
              "      <td>NaN</td>\n",
              "      <td>0</td>\n",
              "      <td>@AmericanAir why would I even consider continu...</td>\n",
              "      <td>NaN</td>\n",
              "      <td>2015-02-24 11:44:31 -0800</td>\n",
              "      <td>NaN</td>\n",
              "      <td>Quito</td>\n",
              "    </tr>\n",
              "  </tbody>\n",
              "</table>\n",
              "<p>310 rows × 15 columns</p>\n",
              "</div>"
            ],
            "text/plain": [
              "                 tweet_id airline_sentiment  airline_sentiment_confidence  \\\n",
              "12033  569600137296633856          positive                        0.9236   \n",
              "14556  569600137296633856          positive                        1.0000   \n",
              "14543  569601363799359488          negative                        1.0000   \n",
              "12032  569601363799359488          negative                        0.9553   \n",
              "12031  569621879633391616          negative                        1.0000   \n",
              "...                   ...               ...                           ...   \n",
              "12042  570307949614256128          negative                        1.0000   \n",
              "11880  570308064185880577           neutral                        0.6667   \n",
              "12041  570308064185880577           neutral                        0.6755   \n",
              "12040  570308309682675712          negative                        1.0000   \n",
              "11879  570308309682675712          negative                        1.0000   \n",
              "\n",
              "                    negativereason  negativereason_confidence   airline  \\\n",
              "12033                          NaN                     0.0000  American   \n",
              "14556                          NaN                        NaN  American   \n",
              "14543  Flight Attendant Complaints                     1.0000  American   \n",
              "12032  Flight Attendant Complaints                     0.9553  American   \n",
              "12031       Customer Service Issue                     1.0000  American   \n",
              "...                            ...                        ...       ...   \n",
              "12042                   Can't Tell                     1.0000  American   \n",
              "11880                          NaN                        NaN  American   \n",
              "12041                          NaN                     0.0000  American   \n",
              "12040       Customer Service Issue                     1.0000  American   \n",
              "11879       Customer Service Issue                     1.0000  American   \n",
              "\n",
              "      airline_sentiment_gold             name          negativereason_gold  \\\n",
              "12033               positive   douglaskgordon                          NaN   \n",
              "14556                    NaN   douglaskgordon                          NaN   \n",
              "14543                    NaN    stevereasnors                          NaN   \n",
              "12032               negative    stevereasnors  Flight Attendant Complaints   \n",
              "12031               negative       salitron78       Customer Service Issue   \n",
              "...                      ...              ...                          ...   \n",
              "12042                    NaN        ELLLORRAC                          NaN   \n",
              "11880                    NaN  LancasterPattie                          NaN   \n",
              "12041                    NaN  LancasterPattie                          NaN   \n",
              "12040                    NaN       SweeLoTmac                          NaN   \n",
              "11879                    NaN       SweeLoTmac                          NaN   \n",
              "\n",
              "       retweet_count                                               text  \\\n",
              "12033              0       @AmericanAir Thank you.....you do the same!!   \n",
              "14556              0       @AmericanAir Thank you.....you do the same!!   \n",
              "14543              0  @AmericanAir should reconsider #usairways acqu...   \n",
              "12032              0  @AmericanAir should reconsider #usairways acqu...   \n",
              "12031              0  @AmericanAir no response to DM or email yet.  ...   \n",
              "...              ...                                                ...   \n",
              "12042              0  @AmericanAir thanks for getting back to me. Bu...   \n",
              "11880              0  @AmericanAir we've already made other arrangem...   \n",
              "12041              0  @AmericanAir we've already made other arrangem...   \n",
              "12040              0  @AmericanAir why would I even consider continu...   \n",
              "11879              0  @AmericanAir why would I even consider continu...   \n",
              "\n",
              "      tweet_coord              tweet_created                  tweet_location  \\\n",
              "12033         NaN  2015-02-22 12:50:30 -0800  Caribbean, New York and Miami.   \n",
              "14556         NaN  2015-02-22 12:50:30 -0800  Caribbean, New York and Miami.   \n",
              "14543         NaN  2015-02-22 12:55:22 -0800                     Los Angeles   \n",
              "12032         NaN  2015-02-22 12:55:22 -0800                     Los Angeles   \n",
              "12031         NaN  2015-02-22 14:16:53 -0800                       on @TheJR   \n",
              "...           ...                        ...                             ...   \n",
              "12042         NaN  2015-02-24 11:43:05 -0800                             NaN   \n",
              "11880         NaN  2015-02-24 11:43:32 -0800                             NaN   \n",
              "12041         NaN  2015-02-24 11:43:32 -0800                             NaN   \n",
              "12040         NaN  2015-02-24 11:44:31 -0800                             NaN   \n",
              "11879         NaN  2015-02-24 11:44:31 -0800                             NaN   \n",
              "\n",
              "                    user_timezone  \n",
              "12033              Indiana (East)  \n",
              "14556              Indiana (East)  \n",
              "14543  Pacific Time (US & Canada)  \n",
              "12032  Pacific Time (US & Canada)  \n",
              "12031                       Seoul  \n",
              "...                           ...  \n",
              "12042  Central Time (US & Canada)  \n",
              "11880                         NaN  \n",
              "12041                         NaN  \n",
              "12040                       Quito  \n",
              "11879                       Quito  \n",
              "\n",
              "[310 rows x 15 columns]"
            ]
          },
          "execution_count": 5,
          "metadata": {},
          "output_type": "execute_result"
        }
      ],
      "source": [
        "df[df.duplicated(subset=[\"tweet_id\"], keep=False)].sort_values(by=\"tweet_id\")"
      ]
    },
    {
      "cell_type": "markdown",
      "metadata": {
        "id": "cGyokE0m9Rfo"
      },
      "source": [
        "Thanks to the \"tweet_id\", we can see that we have duplications. Exactly, 155 duplications that we are going to remove."
      ]
    },
    {
      "cell_type": "code",
      "execution_count": 6,
      "metadata": {
        "id": "KDx3pVF49Rfo"
      },
      "outputs": [],
      "source": [
        "df.drop_duplicates(subset=[\"tweet_id\"], keep=\"first\", inplace=True)\n"
      ]
    },
    {
      "cell_type": "code",
      "execution_count": 7,
      "metadata": {
        "colab": {
          "base_uri": "https://localhost:8080/",
          "height": 73
        },
        "id": "NeRPGk0A9Rfo",
        "outputId": "e2687a49-5a59-4ba5-a823-3012846f0f26"
      },
      "outputs": [
        {
          "data": {
            "text/html": [
              "<div>\n",
              "<style scoped>\n",
              "    .dataframe tbody tr th:only-of-type {\n",
              "        vertical-align: middle;\n",
              "    }\n",
              "\n",
              "    .dataframe tbody tr th {\n",
              "        vertical-align: top;\n",
              "    }\n",
              "\n",
              "    .dataframe thead th {\n",
              "        text-align: right;\n",
              "    }\n",
              "</style>\n",
              "<table border=\"1\" class=\"dataframe\">\n",
              "  <thead>\n",
              "    <tr style=\"text-align: right;\">\n",
              "      <th></th>\n",
              "      <th>tweet_id</th>\n",
              "      <th>airline_sentiment</th>\n",
              "      <th>airline_sentiment_confidence</th>\n",
              "      <th>negativereason</th>\n",
              "      <th>negativereason_confidence</th>\n",
              "      <th>airline</th>\n",
              "      <th>airline_sentiment_gold</th>\n",
              "      <th>name</th>\n",
              "      <th>negativereason_gold</th>\n",
              "      <th>retweet_count</th>\n",
              "      <th>text</th>\n",
              "      <th>tweet_coord</th>\n",
              "      <th>tweet_created</th>\n",
              "      <th>tweet_location</th>\n",
              "      <th>user_timezone</th>\n",
              "    </tr>\n",
              "  </thead>\n",
              "  <tbody>\n",
              "  </tbody>\n",
              "</table>\n",
              "</div>"
            ],
            "text/plain": [
              "Empty DataFrame\n",
              "Columns: [tweet_id, airline_sentiment, airline_sentiment_confidence, negativereason, negativereason_confidence, airline, airline_sentiment_gold, name, negativereason_gold, retweet_count, text, tweet_coord, tweet_created, tweet_location, user_timezone]\n",
              "Index: []"
            ]
          },
          "execution_count": 7,
          "metadata": {},
          "output_type": "execute_result"
        }
      ],
      "source": [
        "df[df.duplicated(subset=[\"tweet_id\"], keep=False)]"
      ]
    },
    {
      "cell_type": "code",
      "execution_count": 8,
      "metadata": {
        "colab": {
          "base_uri": "https://localhost:8080/"
        },
        "id": "-U-zV5po9Rfo",
        "outputId": "707e0eb8-dfbe-4d08-9489-0eb295b6f7b7"
      },
      "outputs": [
        {
          "data": {
            "text/plain": [
              "(14485, 15)"
            ]
          },
          "execution_count": 8,
          "metadata": {},
          "output_type": "execute_result"
        }
      ],
      "source": [
        "assert(df.shape == (14640-155, 15)), \"The shape of the df without duplication is incorrect.\"\n",
        "df.shape"
      ]
    },
    {
      "cell_type": "markdown",
      "metadata": {
        "id": "F-EIHDB79Rfp"
      },
      "source": [
        "#### 1.3 - Frequencies of sentiments in the dataset"
      ]
    },
    {
      "cell_type": "code",
      "execution_count": 9,
      "metadata": {
        "colab": {
          "base_uri": "https://localhost:8080/",
          "height": 589
        },
        "id": "7UDHhxXG9Rfp",
        "outputId": "b2dfcbad-d01c-4f84-d9eb-150e31e463ba"
      },
      "outputs": [
        {
          "data": {
            "image/png": "[encoded data removed]",
            "text/plain": [
              "<Figure size 800x500 with 1 Axes>"
            ]
          },
          "metadata": {},
          "output_type": "display_data"
        }
      ],
      "source": [
        "sentiment_counts = df['airline_sentiment'].value_counts()\n",
        "\n",
        "plt.figure(figsize=(8, 5))\n",
        "sentiment_counts.plot(kind='bar', color=['red', 'yellow', 'green'])\n",
        "plt.title('Sentiment Frequencies')\n",
        "plt.ylabel('Number of tweets')\n",
        "plt.xticks(rotation=25)\n",
        "plt.show()"
      ]
    },
    {
      "cell_type": "code",
      "execution_count": 10,
      "metadata": {
        "colab": {
          "base_uri": "https://localhost:8080/"
        },
        "id": "EWqfOrCc9Rfp",
        "outputId": "85be5db2-a310-48a0-b804-d2a759e97c6d"
      },
      "outputs": [
        {
          "name": "stdout",
          "output_type": "stream",
          "text": [
            "There are 9082 tweets with negative sentiment.\n",
            "There are 3069 tweets with neutral sentiment.\n",
            "There are 2334 tweets with positive sentiment.\n"
          ]
        }
      ],
      "source": [
        "for sentiment, count in sentiment_counts.items():\n",
        "    print(f\"There are {count} tweets with {sentiment} sentiment.\")"
      ]
    },
    {
      "cell_type": "markdown",
      "metadata": {
        "id": "h5PhGvNP9Rfp"
      },
      "source": [
        "As we see, there are a lot of negative tweets about airlines, I think it's pretty normal as people are mostlikely going to say something when it's bad then when it's good. When it's good, it's \"normal\" for the passenger and doesn't require to say anything about it. But when it's really really good, they are going to say it. It's called the negativity bias (tendency for humans to pay more attention to negative events or experiences compared to positive ones)."
      ]
    },
    {
      "cell_type": "markdown",
      "metadata": {
        "id": "wKrEgBmm9Rfp"
      },
      "source": [
        "#### 1.4 - Frequencies of negative sentiment by Airlines"
      ]
    },
    {
      "cell_type": "markdown",
      "metadata": {
        "id": "kUsTKiUZ9Rfp"
      },
      "source": [
        "For fun, let's see which company has the most negative tweets."
      ]
    },
    {
      "cell_type": "code",
      "execution_count": 11,
      "metadata": {
        "colab": {
          "base_uri": "https://localhost:8080/",
          "height": 269
        },
        "id": "RgsHBoXm9Rfp",
        "outputId": "c82b9417-dbd8-47bb-8034-bc1bdfc5b880"
      },
      "outputs": [
        {
          "data": {
            "text/html": [
              "<div>\n",
              "<style scoped>\n",
              "    .dataframe tbody tr th:only-of-type {\n",
              "        vertical-align: middle;\n",
              "    }\n",
              "\n",
              "    .dataframe tbody tr th {\n",
              "        vertical-align: top;\n",
              "    }\n",
              "\n",
              "    .dataframe thead th {\n",
              "        text-align: right;\n",
              "    }\n",
              "</style>\n",
              "<table border=\"1\" class=\"dataframe\">\n",
              "  <thead>\n",
              "    <tr style=\"text-align: right;\">\n",
              "      <th>airline_sentiment</th>\n",
              "      <th>negative</th>\n",
              "      <th>neutral</th>\n",
              "      <th>positive</th>\n",
              "    </tr>\n",
              "    <tr>\n",
              "      <th>airline</th>\n",
              "      <th></th>\n",
              "      <th></th>\n",
              "      <th></th>\n",
              "    </tr>\n",
              "  </thead>\n",
              "  <tbody>\n",
              "    <tr>\n",
              "      <th>American</th>\n",
              "      <td>1864</td>\n",
              "      <td>433</td>\n",
              "      <td>307</td>\n",
              "    </tr>\n",
              "    <tr>\n",
              "      <th>Delta</th>\n",
              "      <td>955</td>\n",
              "      <td>723</td>\n",
              "      <td>544</td>\n",
              "    </tr>\n",
              "    <tr>\n",
              "      <th>Southwest</th>\n",
              "      <td>1186</td>\n",
              "      <td>664</td>\n",
              "      <td>570</td>\n",
              "    </tr>\n",
              "    <tr>\n",
              "      <th>US Airways</th>\n",
              "      <td>2263</td>\n",
              "      <td>381</td>\n",
              "      <td>269</td>\n",
              "    </tr>\n",
              "    <tr>\n",
              "      <th>United</th>\n",
              "      <td>2633</td>\n",
              "      <td>697</td>\n",
              "      <td>492</td>\n",
              "    </tr>\n",
              "    <tr>\n",
              "      <th>Virgin America</th>\n",
              "      <td>181</td>\n",
              "      <td>171</td>\n",
              "      <td>152</td>\n",
              "    </tr>\n",
              "  </tbody>\n",
              "</table>\n",
              "</div>"
            ],
            "text/plain": [
              "airline_sentiment  negative  neutral  positive\n",
              "airline                                       \n",
              "American               1864      433       307\n",
              "Delta                   955      723       544\n",
              "Southwest              1186      664       570\n",
              "US Airways             2263      381       269\n",
              "United                 2633      697       492\n",
              "Virgin America          181      171       152"
            ]
          },
          "execution_count": 11,
          "metadata": {},
          "output_type": "execute_result"
        }
      ],
      "source": [
        "sentiment_by_company = df.groupby(['airline', 'airline_sentiment']).size().unstack()\n",
        "\n",
        "sentiment_by_company"
      ]
    },
    {
      "cell_type": "code",
      "execution_count": 12,
      "metadata": {
        "colab": {
          "base_uri": "https://localhost:8080/",
          "height": 632
        },
        "id": "0PH-BXjs9Rfq",
        "outputId": "99e91603-e2a1-4895-85cd-e83974ab12e5"
      },
      "outputs": [
        {
          "data": {
            "image/png": "[encoded data removed]",
            "text/plain": [
              "<Figure size 1000x600 with 1 Axes>"
            ]
          },
          "metadata": {},
          "output_type": "display_data"
        }
      ],
      "source": [
        "sentiment_by_company.plot(kind='bar', stacked=False, figsize=(10, 6))\n",
        "plt.title('Sentiment Distribution by Airline')\n",
        "plt.ylabel('Number of tweets')\n",
        "plt.xticks(rotation=45)\n",
        "plt.legend()\n",
        "plt.show()"
      ]
    },
    {
      "cell_type": "code",
      "execution_count": 13,
      "metadata": {
        "colab": {
          "base_uri": "https://localhost:8080/"
        },
        "id": "3V6nmGq49Rfq",
        "outputId": "2f082ec0-dc4b-4ce2-ee51-7cab94ba42c0"
      },
      "outputs": [
        {
          "name": "stdout",
          "output_type": "stream",
          "text": [
            "Rate of Negative Tweets by Companies:\n",
            "airline\n",
            "US Airways        0.776862\n",
            "American          0.715822\n",
            "United            0.688906\n",
            "Southwest         0.490083\n",
            "Delta             0.429793\n",
            "Virgin America    0.359127\n",
            "dtype: float64\n"
          ]
        }
      ],
      "source": [
        "number_of_negative_tweets_by_company = sentiment_by_company[\"negative\"]\n",
        "total_tweets_by_company = sentiment_by_company.sum(axis=1)\n",
        "negative_tweet_rate = (number_of_negative_tweets_by_company / total_tweets_by_company).sort_values(ascending=False)\n",
        "\n",
        "print(\"Rate of Negative Tweets by Companies:\")\n",
        "print(negative_tweet_rate)"
      ]
    },
    {
      "cell_type": "markdown",
      "metadata": {
        "id": "ORuF_fO_9Rfq"
      },
      "source": [
        "We can see that passengers seem to not like US Airways, American Airlines, United Airlines. Delta Airlines seems to be less hated. About Virgin America, we can't really say anything as there are only around 500 tweets about this company."
      ]
    },
    {
      "cell_type": "markdown",
      "metadata": {
        "id": "pkzKAwfy9Rfq"
      },
      "source": [
        "#### 1.5 - Length of tweets"
      ]
    },
    {
      "cell_type": "code",
      "execution_count": 14,
      "metadata": {
        "colab": {
          "base_uri": "https://localhost:8080/"
        },
        "id": "IDMA7SOT9Rfq",
        "outputId": "38a439c4-714f-449d-fc46-97794394ec4f"
      },
      "outputs": [
        {
          "data": {
            "text/plain": [
              "113.93536665932614"
            ]
          },
          "execution_count": 14,
          "metadata": {},
          "output_type": "execute_result"
        }
      ],
      "source": [
        "negative_lengths = df[df['airline_sentiment'] == 'negative']['text'].str.len()\n",
        "negative_lengths.mean()"
      ]
    },
    {
      "cell_type": "code",
      "execution_count": 15,
      "metadata": {
        "colab": {
          "base_uri": "https://localhost:8080/"
        },
        "id": "w0h2_Y9E9Rfq",
        "outputId": "517d3cb9-fc18-4b87-cc6a-32b5c767b5f6"
      },
      "outputs": [
        {
          "data": {
            "text/plain": [
              "19.689385597885927"
            ]
          },
          "execution_count": 15,
          "metadata": {},
          "output_type": "execute_result"
        }
      ],
      "source": [
        "negative_word_counts = df[df['airline_sentiment'] == 'negative']['text'].str.split().apply(len)\n",
        "negative_word_counts.mean()"
      ]
    },
    {
      "cell_type": "code",
      "execution_count": 16,
      "metadata": {
        "colab": {
          "base_uri": "https://localhost:8080/"
        },
        "id": "A8eQRlfF9Rfr",
        "outputId": "feadf75e-07b6-4991-bc74-a0d8311899da"
      },
      "outputs": [
        {
          "data": {
            "text/plain": [
              "86.29134532990574"
            ]
          },
          "execution_count": 16,
          "metadata": {},
          "output_type": "execute_result"
        }
      ],
      "source": [
        "positive_lengths = df[df['airline_sentiment'] == 'positive']['text'].str.len()\n",
        "positive_lengths.mean()"
      ]
    },
    {
      "cell_type": "code",
      "execution_count": 17,
      "metadata": {
        "colab": {
          "base_uri": "https://localhost:8080/"
        },
        "id": "HN8wRFI79Rfr",
        "outputId": "b8a50de2-aade-411b-8e71-c88e17e6fb37"
      },
      "outputs": [
        {
          "data": {
            "text/plain": [
              "14.050985432733505"
            ]
          },
          "execution_count": 17,
          "metadata": {},
          "output_type": "execute_result"
        }
      ],
      "source": [
        "positive_word_counts = df[df['airline_sentiment'] == 'positive']['text'].str.split().apply(len)\n",
        "positive_word_counts.mean()"
      ]
    },
    {
      "cell_type": "code",
      "execution_count": 18,
      "metadata": {
        "colab": {
          "base_uri": "https://localhost:8080/",
          "height": 449
        },
        "id": "-GTYV4gr9Rfr",
        "outputId": "2d8ed45b-6154-4021-f0c5-5591a51d7330"
      },
      "outputs": [
        {
          "data": {
            "image/png": "[encoded data removed]",
            "text/plain": [
              "<Figure size 640x480 with 1 Axes>"
            ]
          },
          "metadata": {},
          "output_type": "display_data"
        }
      ],
      "source": [
        "plt.hist(negative_lengths, bins=50, color='red', alpha=0.5, label='Negative', density=True)\n",
        "plt.hist(positive_lengths, bins=50, color='blue', alpha=0.5, label='Positive', density=True)\n",
        "plt.xlabel('Length of Tweets')\n",
        "plt.ylabel('Frequency')\n",
        "plt.legend()\n",
        "plt.show()"
      ]
    },
    {
      "cell_type": "code",
      "execution_count": 19,
      "metadata": {
        "colab": {
          "base_uri": "https://localhost:8080/",
          "height": 449
        },
        "id": "m1vlnPR_9Rfr",
        "outputId": "4ef53cff-1456-4daf-d9cf-6beb1f53ebb7"
      },
      "outputs": [
        {
          "data": {
            "image/png": "[encoded data removed]",
            "text/plain": [
              "<Figure size 640x480 with 1 Axes>"
            ]
          },
          "metadata": {},
          "output_type": "display_data"
        }
      ],
      "source": [
        "plt.hist(negative_word_counts, bins=50, color='red', alpha=0.5, label='Negative', density=True)\n",
        "plt.hist(positive_word_counts, bins=50, color='blue', alpha=0.5, label='Positive', density=True)\n",
        "plt.xlabel('Words length of Tweets')\n",
        "plt.ylabel('Frequency')\n",
        "plt.legend()\n",
        "plt.show()"
      ]
    },
    {
      "cell_type": "markdown",
      "metadata": {
        "id": "OlZr_BgW9Rfr"
      },
      "source": [
        "We can see that in average, negative tweets have 20 words for 114 characters and positive tweets have 14 words for 86 characters. We may use it as a feature in our model."
      ]
    },
    {
      "cell_type": "markdown",
      "metadata": {
        "id": "ZmMaprsC9Rfr"
      },
      "source": [
        "# 2 - Pre-processing"
      ]
    },
    {
      "cell_type": "markdown",
      "metadata": {
        "id": "0w1_GDOA9Rfs"
      },
      "source": [
        "#### 2.1 - Removing the useless columns"
      ]
    },
    {
      "cell_type": "code",
      "execution_count": 20,
      "metadata": {
        "colab": {
          "base_uri": "https://localhost:8080/",
          "height": 677
        },
        "id": "WxwHAy269Rfs",
        "outputId": "d4dc3e49-8665-4d64-aadf-2788ec54bcbd"
      },
      "outputs": [
        {
          "data": {
            "text/html": [
              "<div>\n",
              "<style scoped>\n",
              "    .dataframe tbody tr th:only-of-type {\n",
              "        vertical-align: middle;\n",
              "    }\n",
              "\n",
              "    .dataframe tbody tr th {\n",
              "        vertical-align: top;\n",
              "    }\n",
              "\n",
              "    .dataframe thead th {\n",
              "        text-align: right;\n",
              "    }\n",
              "</style>\n",
              "<table border=\"1\" class=\"dataframe\">\n",
              "  <thead>\n",
              "    <tr style=\"text-align: right;\">\n",
              "      <th></th>\n",
              "      <th>text</th>\n",
              "      <th>airline_sentiment</th>\n",
              "    </tr>\n",
              "  </thead>\n",
              "  <tbody>\n",
              "    <tr>\n",
              "      <th>0</th>\n",
              "      <td>@VirginAmerica What @dhepburn said.</td>\n",
              "      <td>neutral</td>\n",
              "    </tr>\n",
              "    <tr>\n",
              "      <th>1</th>\n",
              "      <td>@VirginAmerica plus you've added commercials t...</td>\n",
              "      <td>positive</td>\n",
              "    </tr>\n",
              "    <tr>\n",
              "      <th>2</th>\n",
              "      <td>@VirginAmerica I didn't today... Must mean I n...</td>\n",
              "      <td>neutral</td>\n",
              "    </tr>\n",
              "    <tr>\n",
              "      <th>3</th>\n",
              "      <td>@VirginAmerica it's really aggressive to blast...</td>\n",
              "      <td>negative</td>\n",
              "    </tr>\n",
              "    <tr>\n",
              "      <th>4</th>\n",
              "      <td>@VirginAmerica and it's a really big bad thing...</td>\n",
              "      <td>negative</td>\n",
              "    </tr>\n",
              "    <tr>\n",
              "      <th>5</th>\n",
              "      <td>@VirginAmerica seriously would pay $30 a fligh...</td>\n",
              "      <td>negative</td>\n",
              "    </tr>\n",
              "    <tr>\n",
              "      <th>6</th>\n",
              "      <td>@VirginAmerica yes, nearly every time I fly VX...</td>\n",
              "      <td>positive</td>\n",
              "    </tr>\n",
              "    <tr>\n",
              "      <th>7</th>\n",
              "      <td>@VirginAmerica Really missed a prime opportuni...</td>\n",
              "      <td>neutral</td>\n",
              "    </tr>\n",
              "    <tr>\n",
              "      <th>8</th>\n",
              "      <td>@virginamerica Well, I didn't…but NOW I DO! :-D</td>\n",
              "      <td>positive</td>\n",
              "    </tr>\n",
              "    <tr>\n",
              "      <th>9</th>\n",
              "      <td>@VirginAmerica it was amazing, and arrived an ...</td>\n",
              "      <td>positive</td>\n",
              "    </tr>\n",
              "    <tr>\n",
              "      <th>10</th>\n",
              "      <td>@VirginAmerica did you know that suicide is th...</td>\n",
              "      <td>neutral</td>\n",
              "    </tr>\n",
              "    <tr>\n",
              "      <th>11</th>\n",
              "      <td>@VirginAmerica I &amp;lt;3 pretty graphics. so muc...</td>\n",
              "      <td>positive</td>\n",
              "    </tr>\n",
              "    <tr>\n",
              "      <th>12</th>\n",
              "      <td>@VirginAmerica This is such a great deal! Alre...</td>\n",
              "      <td>positive</td>\n",
              "    </tr>\n",
              "    <tr>\n",
              "      <th>13</th>\n",
              "      <td>@VirginAmerica @virginmedia I'm flying your #f...</td>\n",
              "      <td>positive</td>\n",
              "    </tr>\n",
              "    <tr>\n",
              "      <th>14</th>\n",
              "      <td>@VirginAmerica Thanks!</td>\n",
              "      <td>positive</td>\n",
              "    </tr>\n",
              "    <tr>\n",
              "      <th>15</th>\n",
              "      <td>@VirginAmerica SFO-PDX schedule is still MIA.</td>\n",
              "      <td>negative</td>\n",
              "    </tr>\n",
              "    <tr>\n",
              "      <th>16</th>\n",
              "      <td>@VirginAmerica So excited for my first cross c...</td>\n",
              "      <td>positive</td>\n",
              "    </tr>\n",
              "    <tr>\n",
              "      <th>17</th>\n",
              "      <td>@VirginAmerica  I flew from NYC to SFO last we...</td>\n",
              "      <td>negative</td>\n",
              "    </tr>\n",
              "    <tr>\n",
              "      <th>18</th>\n",
              "      <td>I ❤️ flying @VirginAmerica. ☺️👍</td>\n",
              "      <td>positive</td>\n",
              "    </tr>\n",
              "    <tr>\n",
              "      <th>19</th>\n",
              "      <td>@VirginAmerica you know what would be amazingl...</td>\n",
              "      <td>positive</td>\n",
              "    </tr>\n",
              "  </tbody>\n",
              "</table>\n",
              "</div>"
            ],
            "text/plain": [
              "                                                 text airline_sentiment\n",
              "0                 @VirginAmerica What @dhepburn said.           neutral\n",
              "1   @VirginAmerica plus you've added commercials t...          positive\n",
              "2   @VirginAmerica I didn't today... Must mean I n...           neutral\n",
              "3   @VirginAmerica it's really aggressive to blast...          negative\n",
              "4   @VirginAmerica and it's a really big bad thing...          negative\n",
              "5   @VirginAmerica seriously would pay $30 a fligh...          negative\n",
              "6   @VirginAmerica yes, nearly every time I fly VX...          positive\n",
              "7   @VirginAmerica Really missed a prime opportuni...           neutral\n",
              "8     @virginamerica Well, I didn't…but NOW I DO! :-D          positive\n",
              "9   @VirginAmerica it was amazing, and arrived an ...          positive\n",
              "10  @VirginAmerica did you know that suicide is th...           neutral\n",
              "11  @VirginAmerica I &lt;3 pretty graphics. so muc...          positive\n",
              "12  @VirginAmerica This is such a great deal! Alre...          positive\n",
              "13  @VirginAmerica @virginmedia I'm flying your #f...          positive\n",
              "14                             @VirginAmerica Thanks!          positive\n",
              "15      @VirginAmerica SFO-PDX schedule is still MIA.          negative\n",
              "16  @VirginAmerica So excited for my first cross c...          positive\n",
              "17  @VirginAmerica  I flew from NYC to SFO last we...          negative\n",
              "18                    I ❤️ flying @VirginAmerica. ☺️👍          positive\n",
              "19  @VirginAmerica you know what would be amazingl...          positive"
            ]
          },
          "execution_count": 20,
          "metadata": {},
          "output_type": "execute_result"
        }
      ],
      "source": [
        "df = df[[\"text\", \"airline_sentiment\"]]\n",
        "df.head(20)"
      ]
    },
    {
      "cell_type": "markdown",
      "metadata": {
        "id": "HV0GIFNz9Rfs"
      },
      "source": [
        "#### 2.2 - Converting emojis"
      ]
    },
    {
      "cell_type": "markdown",
      "metadata": {
        "id": "40rgEROW9Rfs"
      },
      "source": [
        "For index 18, the emoji ❤️ is important because otherwise we can't understand the analysis of just \"I flying\". So, now we are going to try to take care of emojis / smileys first."
      ]
    },
    {
      "cell_type": "code",
      "execution_count": 21,
      "metadata": {
        "colab": {
          "base_uri": "https://localhost:8080/"
        },
        "id": "ri4YCtlN9Rfs",
        "outputId": "ebfc2798-8f59-4d86-f3d8-7946802542c9"
      },
      "outputs": [
        {
          "name": "stdout",
          "output_type": "stream",
          "text": [
            "I :red_heart: flying @VirginAmerica. :smiling_face::thumbs_up:\n"
          ]
        }
      ],
      "source": [
        "print(emoji.demojize(df.iloc[18][\"text\"]))"
      ]
    },
    {
      "cell_type": "code",
      "execution_count": 22,
      "metadata": {
        "colab": {
          "base_uri": "https://localhost:8080/",
          "height": 677
        },
        "id": "NtA91eVI9Rft",
        "outputId": "42da8b29-b88c-484f-a75d-1815db95dcfb"
      },
      "outputs": [
        {
          "data": {
            "text/html": [
              "<div>\n",
              "<style scoped>\n",
              "    .dataframe tbody tr th:only-of-type {\n",
              "        vertical-align: middle;\n",
              "    }\n",
              "\n",
              "    .dataframe tbody tr th {\n",
              "        vertical-align: top;\n",
              "    }\n",
              "\n",
              "    .dataframe thead th {\n",
              "        text-align: right;\n",
              "    }\n",
              "</style>\n",
              "<table border=\"1\" class=\"dataframe\">\n",
              "  <thead>\n",
              "    <tr style=\"text-align: right;\">\n",
              "      <th></th>\n",
              "      <th>text</th>\n",
              "      <th>airline_sentiment</th>\n",
              "      <th>preprocessed_text</th>\n",
              "    </tr>\n",
              "  </thead>\n",
              "  <tbody>\n",
              "    <tr>\n",
              "      <th>0</th>\n",
              "      <td>@VirginAmerica What @dhepburn said.</td>\n",
              "      <td>neutral</td>\n",
              "      <td>@VirginAmerica What @dhepburn said.</td>\n",
              "    </tr>\n",
              "    <tr>\n",
              "      <th>1</th>\n",
              "      <td>@VirginAmerica plus you've added commercials t...</td>\n",
              "      <td>positive</td>\n",
              "      <td>@VirginAmerica plus you've added commercials t...</td>\n",
              "    </tr>\n",
              "    <tr>\n",
              "      <th>2</th>\n",
              "      <td>@VirginAmerica I didn't today... Must mean I n...</td>\n",
              "      <td>neutral</td>\n",
              "      <td>@VirginAmerica I didn't today... Must mean I n...</td>\n",
              "    </tr>\n",
              "    <tr>\n",
              "      <th>3</th>\n",
              "      <td>@VirginAmerica it's really aggressive to blast...</td>\n",
              "      <td>negative</td>\n",
              "      <td>@VirginAmerica it's really aggressive to blast...</td>\n",
              "    </tr>\n",
              "    <tr>\n",
              "      <th>4</th>\n",
              "      <td>@VirginAmerica and it's a really big bad thing...</td>\n",
              "      <td>negative</td>\n",
              "      <td>@VirginAmerica and it's a really big bad thing...</td>\n",
              "    </tr>\n",
              "    <tr>\n",
              "      <th>5</th>\n",
              "      <td>@VirginAmerica seriously would pay $30 a fligh...</td>\n",
              "      <td>negative</td>\n",
              "      <td>@VirginAmerica seriously would pay $30 a fligh...</td>\n",
              "    </tr>\n",
              "    <tr>\n",
              "      <th>6</th>\n",
              "      <td>@VirginAmerica yes, nearly every time I fly VX...</td>\n",
              "      <td>positive</td>\n",
              "      <td>@VirginAmerica yes, nearly every time I fly VX...</td>\n",
              "    </tr>\n",
              "    <tr>\n",
              "      <th>7</th>\n",
              "      <td>@VirginAmerica Really missed a prime opportuni...</td>\n",
              "      <td>neutral</td>\n",
              "      <td>@VirginAmerica Really missed a prime opportuni...</td>\n",
              "    </tr>\n",
              "    <tr>\n",
              "      <th>8</th>\n",
              "      <td>@virginamerica Well, I didn't…but NOW I DO! :-D</td>\n",
              "      <td>positive</td>\n",
              "      <td>@virginamerica Well, I didn't…but NOW I DO! :-D</td>\n",
              "    </tr>\n",
              "    <tr>\n",
              "      <th>9</th>\n",
              "      <td>@VirginAmerica it was amazing, and arrived an ...</td>\n",
              "      <td>positive</td>\n",
              "      <td>@VirginAmerica it was amazing, and arrived an ...</td>\n",
              "    </tr>\n",
              "    <tr>\n",
              "      <th>10</th>\n",
              "      <td>@VirginAmerica did you know that suicide is th...</td>\n",
              "      <td>neutral</td>\n",
              "      <td>@VirginAmerica did you know that suicide is th...</td>\n",
              "    </tr>\n",
              "    <tr>\n",
              "      <th>11</th>\n",
              "      <td>@VirginAmerica I &amp;lt;3 pretty graphics. so muc...</td>\n",
              "      <td>positive</td>\n",
              "      <td>@VirginAmerica I &amp;lt;3 pretty graphics. so muc...</td>\n",
              "    </tr>\n",
              "    <tr>\n",
              "      <th>12</th>\n",
              "      <td>@VirginAmerica This is such a great deal! Alre...</td>\n",
              "      <td>positive</td>\n",
              "      <td>@VirginAmerica This is such a great deal! Alre...</td>\n",
              "    </tr>\n",
              "    <tr>\n",
              "      <th>13</th>\n",
              "      <td>@VirginAmerica @virginmedia I'm flying your #f...</td>\n",
              "      <td>positive</td>\n",
              "      <td>@VirginAmerica @virginmedia I'm flying your #f...</td>\n",
              "    </tr>\n",
              "    <tr>\n",
              "      <th>14</th>\n",
              "      <td>@VirginAmerica Thanks!</td>\n",
              "      <td>positive</td>\n",
              "      <td>@VirginAmerica Thanks!</td>\n",
              "    </tr>\n",
              "    <tr>\n",
              "      <th>15</th>\n",
              "      <td>@VirginAmerica SFO-PDX schedule is still MIA.</td>\n",
              "      <td>negative</td>\n",
              "      <td>@VirginAmerica SFO-PDX schedule is still MIA.</td>\n",
              "    </tr>\n",
              "    <tr>\n",
              "      <th>16</th>\n",
              "      <td>@VirginAmerica So excited for my first cross c...</td>\n",
              "      <td>positive</td>\n",
              "      <td>@VirginAmerica So excited for my first cross c...</td>\n",
              "    </tr>\n",
              "    <tr>\n",
              "      <th>17</th>\n",
              "      <td>@VirginAmerica  I flew from NYC to SFO last we...</td>\n",
              "      <td>negative</td>\n",
              "      <td>@VirginAmerica  I flew from NYC to SFO last we...</td>\n",
              "    </tr>\n",
              "    <tr>\n",
              "      <th>18</th>\n",
              "      <td>I ❤️ flying @VirginAmerica. ☺️👍</td>\n",
              "      <td>positive</td>\n",
              "      <td>I :red_heart: flying @VirginAmerica. :smiling_...</td>\n",
              "    </tr>\n",
              "    <tr>\n",
              "      <th>19</th>\n",
              "      <td>@VirginAmerica you know what would be amazingl...</td>\n",
              "      <td>positive</td>\n",
              "      <td>@VirginAmerica you know what would be amazingl...</td>\n",
              "    </tr>\n",
              "  </tbody>\n",
              "</table>\n",
              "</div>"
            ],
            "text/plain": [
              "                                                 text airline_sentiment  \\\n",
              "0                 @VirginAmerica What @dhepburn said.           neutral   \n",
              "1   @VirginAmerica plus you've added commercials t...          positive   \n",
              "2   @VirginAmerica I didn't today... Must mean I n...           neutral   \n",
              "3   @VirginAmerica it's really aggressive to blast...          negative   \n",
              "4   @VirginAmerica and it's a really big bad thing...          negative   \n",
              "5   @VirginAmerica seriously would pay $30 a fligh...          negative   \n",
              "6   @VirginAmerica yes, nearly every time I fly VX...          positive   \n",
              "7   @VirginAmerica Really missed a prime opportuni...           neutral   \n",
              "8     @virginamerica Well, I didn't…but NOW I DO! :-D          positive   \n",
              "9   @VirginAmerica it was amazing, and arrived an ...          positive   \n",
              "10  @VirginAmerica did you know that suicide is th...           neutral   \n",
              "11  @VirginAmerica I &lt;3 pretty graphics. so muc...          positive   \n",
              "12  @VirginAmerica This is such a great deal! Alre...          positive   \n",
              "13  @VirginAmerica @virginmedia I'm flying your #f...          positive   \n",
              "14                             @VirginAmerica Thanks!          positive   \n",
              "15      @VirginAmerica SFO-PDX schedule is still MIA.          negative   \n",
              "16  @VirginAmerica So excited for my first cross c...          positive   \n",
              "17  @VirginAmerica  I flew from NYC to SFO last we...          negative   \n",
              "18                    I ❤️ flying @VirginAmerica. ☺️👍          positive   \n",
              "19  @VirginAmerica you know what would be amazingl...          positive   \n",
              "\n",
              "                                    preprocessed_text  \n",
              "0                 @VirginAmerica What @dhepburn said.  \n",
              "1   @VirginAmerica plus you've added commercials t...  \n",
              "2   @VirginAmerica I didn't today... Must mean I n...  \n",
              "3   @VirginAmerica it's really aggressive to blast...  \n",
              "4   @VirginAmerica and it's a really big bad thing...  \n",
              "5   @VirginAmerica seriously would pay $30 a fligh...  \n",
              "6   @VirginAmerica yes, nearly every time I fly VX...  \n",
              "7   @VirginAmerica Really missed a prime opportuni...  \n",
              "8     @virginamerica Well, I didn't…but NOW I DO! :-D  \n",
              "9   @VirginAmerica it was amazing, and arrived an ...  \n",
              "10  @VirginAmerica did you know that suicide is th...  \n",
              "11  @VirginAmerica I &lt;3 pretty graphics. so muc...  \n",
              "12  @VirginAmerica This is such a great deal! Alre...  \n",
              "13  @VirginAmerica @virginmedia I'm flying your #f...  \n",
              "14                             @VirginAmerica Thanks!  \n",
              "15      @VirginAmerica SFO-PDX schedule is still MIA.  \n",
              "16  @VirginAmerica So excited for my first cross c...  \n",
              "17  @VirginAmerica  I flew from NYC to SFO last we...  \n",
              "18  I :red_heart: flying @VirginAmerica. :smiling_...  \n",
              "19  @VirginAmerica you know what would be amazingl...  "
            ]
          },
          "execution_count": 22,
          "metadata": {},
          "output_type": "execute_result"
        }
      ],
      "source": [
        "df['preprocessed_text'] = df['text'].apply(emoji.demojize)\n",
        "df.head(20)"
      ]
    },
    {
      "cell_type": "markdown",
      "metadata": {
        "id": "6ounnec-9Rft"
      },
      "source": [
        "#### 2.3 - Tokenization and removing stopwords, symbols and company's name"
      ]
    },
    {
      "cell_type": "code",
      "execution_count": 23,
      "metadata": {
        "colab": {
          "base_uri": "https://localhost:8080/",
          "height": 35
        },
        "id": "_YW3F0V29Rft",
        "outputId": "30854774-1037-4a19-b7b2-2353c288b8f5"
      },
      "outputs": [
        {
          "data": {
            "text/plain": [
              "'I redheart flying VirginAmerica smilingface thumbsup'"
            ]
          },
          "execution_count": 23,
          "metadata": {},
          "output_type": "execute_result"
        }
      ],
      "source": [
        "def remove_symbols(text):\n",
        "    text = text.replace(\"::\", \" \") # In case there are two emojis in a row\n",
        "\n",
        "    # Regular expression\n",
        "    pattern = r'[^a-zA-Z0-9\\s]'\n",
        "\n",
        "    # Replace non-alphanumeric characters with an empty string\n",
        "    cleaned_text = re.sub(pattern, '', text)\n",
        "\n",
        "    return cleaned_text\n",
        "\n",
        "remove_symbols(df.iloc[18][\"preprocessed_text\"])"
      ]
    },
    {
      "cell_type": "code",
      "execution_count": 24,
      "metadata": {
        "colab": {
          "base_uri": "https://localhost:8080/",
          "height": 731
        },
        "id": "su5QUHRX9Rft",
        "outputId": "87e648cc-d0dd-44ee-c613-ccbc5811ade5"
      },
      "outputs": [
        {
          "data": {
            "text/html": [
              "<div>\n",
              "<style scoped>\n",
              "    .dataframe tbody tr th:only-of-type {\n",
              "        vertical-align: middle;\n",
              "    }\n",
              "\n",
              "    .dataframe tbody tr th {\n",
              "        vertical-align: top;\n",
              "    }\n",
              "\n",
              "    .dataframe thead th {\n",
              "        text-align: right;\n",
              "    }\n",
              "</style>\n",
              "<table border=\"1\" class=\"dataframe\">\n",
              "  <thead>\n",
              "    <tr style=\"text-align: right;\">\n",
              "      <th></th>\n",
              "      <th>text</th>\n",
              "      <th>airline_sentiment</th>\n",
              "      <th>preprocessed_text</th>\n",
              "    </tr>\n",
              "  </thead>\n",
              "  <tbody>\n",
              "    <tr>\n",
              "      <th>0</th>\n",
              "      <td>@VirginAmerica What @dhepburn said.</td>\n",
              "      <td>neutral</td>\n",
              "      <td>[dhepburn, say]</td>\n",
              "    </tr>\n",
              "    <tr>\n",
              "      <th>1</th>\n",
              "      <td>@VirginAmerica plus you've added commercials t...</td>\n",
              "      <td>positive</td>\n",
              "      <td>[plus, add, commercial, experience, tacky]</td>\n",
              "    </tr>\n",
              "    <tr>\n",
              "      <th>2</th>\n",
              "      <td>@VirginAmerica I didn't today... Must mean I n...</td>\n",
              "      <td>neutral</td>\n",
              "      <td>[not, today, must, mean, need, take, another, ...</td>\n",
              "    </tr>\n",
              "    <tr>\n",
              "      <th>3</th>\n",
              "      <td>@VirginAmerica it's really aggressive to blast...</td>\n",
              "      <td>negative</td>\n",
              "      <td>[really, aggressive, blast, obnoxious, enterta...</td>\n",
              "    </tr>\n",
              "    <tr>\n",
              "      <th>4</th>\n",
              "      <td>@VirginAmerica and it's a really big bad thing...</td>\n",
              "      <td>negative</td>\n",
              "      <td>[really, big, bad, thing]</td>\n",
              "    </tr>\n",
              "    <tr>\n",
              "      <th>5</th>\n",
              "      <td>@VirginAmerica seriously would pay $30 a fligh...</td>\n",
              "      <td>negative</td>\n",
              "      <td>[seriously, would, pay, 30, flight, seat, not,...</td>\n",
              "    </tr>\n",
              "    <tr>\n",
              "      <th>6</th>\n",
              "      <td>@VirginAmerica yes, nearly every time I fly VX...</td>\n",
              "      <td>positive</td>\n",
              "      <td>[yes, nearly, every, time, fly, vx, ear, worm,...</td>\n",
              "    </tr>\n",
              "    <tr>\n",
              "      <th>7</th>\n",
              "      <td>@VirginAmerica Really missed a prime opportuni...</td>\n",
              "      <td>neutral</td>\n",
              "      <td>[really, miss, prime, opportunity, man, withou...</td>\n",
              "    </tr>\n",
              "    <tr>\n",
              "      <th>8</th>\n",
              "      <td>@virginamerica Well, I didn't…but NOW I DO! :-D</td>\n",
              "      <td>positive</td>\n",
              "      <td>[well, didntbut]</td>\n",
              "    </tr>\n",
              "    <tr>\n",
              "      <th>9</th>\n",
              "      <td>@VirginAmerica it was amazing, and arrived an ...</td>\n",
              "      <td>positive</td>\n",
              "      <td>[amazing, arrive, hour, early, good]</td>\n",
              "    </tr>\n",
              "    <tr>\n",
              "      <th>10</th>\n",
              "      <td>@VirginAmerica did you know that suicide is th...</td>\n",
              "      <td>neutral</td>\n",
              "      <td>[know, suicide, second, lead, cause, death, am...</td>\n",
              "    </tr>\n",
              "    <tr>\n",
              "      <th>11</th>\n",
              "      <td>@VirginAmerica I &amp;lt;3 pretty graphics. so muc...</td>\n",
              "      <td>positive</td>\n",
              "      <td>[lt, 3, pretty, graphic, much, well, minimal, ...</td>\n",
              "    </tr>\n",
              "    <tr>\n",
              "      <th>12</th>\n",
              "      <td>@VirginAmerica This is such a great deal! Alre...</td>\n",
              "      <td>positive</td>\n",
              "      <td>[great, deal, already, think, 2nd, trip, austr...</td>\n",
              "    </tr>\n",
              "    <tr>\n",
              "      <th>13</th>\n",
              "      <td>@VirginAmerica @virginmedia I'm flying your #f...</td>\n",
              "      <td>positive</td>\n",
              "      <td>[virginmedia, fly, fabulous, seductive, sky, u...</td>\n",
              "    </tr>\n",
              "    <tr>\n",
              "      <th>14</th>\n",
              "      <td>@VirginAmerica Thanks!</td>\n",
              "      <td>positive</td>\n",
              "      <td>[thank]</td>\n",
              "    </tr>\n",
              "    <tr>\n",
              "      <th>15</th>\n",
              "      <td>@VirginAmerica SFO-PDX schedule is still MIA.</td>\n",
              "      <td>negative</td>\n",
              "      <td>[sfopdx, schedule, still, mia]</td>\n",
              "    </tr>\n",
              "    <tr>\n",
              "      <th>16</th>\n",
              "      <td>@VirginAmerica So excited for my first cross c...</td>\n",
              "      <td>positive</td>\n",
              "      <td>[excite, first, cross, country, flight, lax, m...</td>\n",
              "    </tr>\n",
              "    <tr>\n",
              "      <th>17</th>\n",
              "      <td>@VirginAmerica  I flew from NYC to SFO last we...</td>\n",
              "      <td>negative</td>\n",
              "      <td>[fly, nyc, sfo, last, week, could, not, fully,...</td>\n",
              "    </tr>\n",
              "    <tr>\n",
              "      <th>18</th>\n",
              "      <td>I ❤️ flying @VirginAmerica. ☺️👍</td>\n",
              "      <td>positive</td>\n",
              "      <td>[redheart, fly, smilingface, thumbsup]</td>\n",
              "    </tr>\n",
              "    <tr>\n",
              "      <th>19</th>\n",
              "      <td>@VirginAmerica you know what would be amazingl...</td>\n",
              "      <td>positive</td>\n",
              "      <td>[know, would, amazingly, awesome, bosfll, plea...</td>\n",
              "    </tr>\n",
              "  </tbody>\n",
              "</table>\n",
              "</div>"
            ],
            "text/plain": [
              "                                                 text airline_sentiment  \\\n",
              "0                 @VirginAmerica What @dhepburn said.           neutral   \n",
              "1   @VirginAmerica plus you've added commercials t...          positive   \n",
              "2   @VirginAmerica I didn't today... Must mean I n...           neutral   \n",
              "3   @VirginAmerica it's really aggressive to blast...          negative   \n",
              "4   @VirginAmerica and it's a really big bad thing...          negative   \n",
              "5   @VirginAmerica seriously would pay $30 a fligh...          negative   \n",
              "6   @VirginAmerica yes, nearly every time I fly VX...          positive   \n",
              "7   @VirginAmerica Really missed a prime opportuni...           neutral   \n",
              "8     @virginamerica Well, I didn't…but NOW I DO! :-D          positive   \n",
              "9   @VirginAmerica it was amazing, and arrived an ...          positive   \n",
              "10  @VirginAmerica did you know that suicide is th...           neutral   \n",
              "11  @VirginAmerica I &lt;3 pretty graphics. so muc...          positive   \n",
              "12  @VirginAmerica This is such a great deal! Alre...          positive   \n",
              "13  @VirginAmerica @virginmedia I'm flying your #f...          positive   \n",
              "14                             @VirginAmerica Thanks!          positive   \n",
              "15      @VirginAmerica SFO-PDX schedule is still MIA.          negative   \n",
              "16  @VirginAmerica So excited for my first cross c...          positive   \n",
              "17  @VirginAmerica  I flew from NYC to SFO last we...          negative   \n",
              "18                    I ❤️ flying @VirginAmerica. ☺️👍          positive   \n",
              "19  @VirginAmerica you know what would be amazingl...          positive   \n",
              "\n",
              "                                    preprocessed_text  \n",
              "0                                     [dhepburn, say]  \n",
              "1          [plus, add, commercial, experience, tacky]  \n",
              "2   [not, today, must, mean, need, take, another, ...  \n",
              "3   [really, aggressive, blast, obnoxious, enterta...  \n",
              "4                           [really, big, bad, thing]  \n",
              "5   [seriously, would, pay, 30, flight, seat, not,...  \n",
              "6   [yes, nearly, every, time, fly, vx, ear, worm,...  \n",
              "7   [really, miss, prime, opportunity, man, withou...  \n",
              "8                                    [well, didntbut]  \n",
              "9                [amazing, arrive, hour, early, good]  \n",
              "10  [know, suicide, second, lead, cause, death, am...  \n",
              "11  [lt, 3, pretty, graphic, much, well, minimal, ...  \n",
              "12  [great, deal, already, think, 2nd, trip, austr...  \n",
              "13  [virginmedia, fly, fabulous, seductive, sky, u...  \n",
              "14                                            [thank]  \n",
              "15                     [sfopdx, schedule, still, mia]  \n",
              "16  [excite, first, cross, country, flight, lax, m...  \n",
              "17  [fly, nyc, sfo, last, week, could, not, fully,...  \n",
              "18             [redheart, fly, smilingface, thumbsup]  \n",
              "19  [know, would, amazingly, awesome, bosfll, plea...  "
            ]
          },
          "execution_count": 24,
          "metadata": {},
          "output_type": "execute_result"
        }
      ],
      "source": [
        "companies = ['virginamerica', 'united', 'southwest', 'delta', 'usairways', 'americanair', 'usairway', 'southwestair']\n",
        "\n",
        "nlp = spacy.load(\"en_core_web_sm\")\n",
        "\n",
        "def preprocess_text(text):\n",
        "    # Tokenize the text and remove symbols\n",
        "    tokens = word_tokenize(text)\n",
        "    tokens = [remove_symbols(text) for text in tokens if len(remove_symbols(text)) != 0]\n",
        "\n",
        "    # Remove stopwords and company name\n",
        "    stop_words = set(stopwords.words('english'))\n",
        "    tokens = [token.lower() for token in tokens if token.lower() not in stop_words and token.lower() not in companies]\n",
        "\n",
        "    # Lemmatize tokens using spaCy because NLTK is not good enough if you do not precise the POS (ex: flying -> flying)\n",
        "    doc = nlp(\" \".join(tokens))\n",
        "    tokens = [token.lemma_ for token in doc]\n",
        "\n",
        "    return tokens\n",
        "\n",
        "df['preprocessed_text'] = df['preprocessed_text'].apply(preprocess_text)\n",
        "df.head(20)"
      ]
    },
    {
      "cell_type": "markdown",
      "metadata": {
        "id": "wOMNVly39Rft"
      },
      "source": [
        "#### 2.4 - Word cloud"
      ]
    },
    {
      "cell_type": "code",
      "execution_count": 25,
      "metadata": {
        "colab": {
          "base_uri": "https://localhost:8080/",
          "height": 422
        },
        "id": "jnpIaSju9Rfu",
        "outputId": "8ffc02a3-2ca4-4964-abaa-25191e624376"
      },
      "outputs": [
        {
          "data": {
            "image/png": "[encoded data removed]",
            "text/plain": [
              "<Figure size 1000x500 with 1 Axes>"
            ]
          },
          "metadata": {},
          "output_type": "display_data"
        }
      ],
      "source": [
        "every_words = ' '.join(df['preprocessed_text'].explode().astype(str))\n",
        "\n",
        "wordcloud = WordCloud(width=800, height=400, background_color='white').generate(every_words)\n",
        "\n",
        "plt.figure(figsize=(10, 5))\n",
        "plt.imshow(wordcloud)\n",
        "plt.axis('off')\n",
        "plt.show()"
      ]
    },
    {
      "cell_type": "markdown",
      "metadata": {
        "id": "6fSRe0c_9Rfu"
      },
      "source": [
        "It's to check if there are not the companies' name anymore."
      ]
    },
    {
      "cell_type": "markdown",
      "metadata": {
        "id": "Tbx08iUL9Rfu"
      },
      "source": [
        "#### 2.5 - Length of tweets"
      ]
    },
    {
      "cell_type": "code",
      "execution_count": 26,
      "metadata": {
        "colab": {
          "base_uri": "https://localhost:8080/",
          "height": 972
        },
        "id": "s4wtUCSb9Rfu",
        "outputId": "b184d52d-750e-46c4-9e05-bdb6f5bf014d"
      },
      "outputs": [
        {
          "data": {
            "text/html": [
              "<div>\n",
              "<style scoped>\n",
              "    .dataframe tbody tr th:only-of-type {\n",
              "        vertical-align: middle;\n",
              "    }\n",
              "\n",
              "    .dataframe tbody tr th {\n",
              "        vertical-align: top;\n",
              "    }\n",
              "\n",
              "    .dataframe thead th {\n",
              "        text-align: right;\n",
              "    }\n",
              "</style>\n",
              "<table border=\"1\" class=\"dataframe\">\n",
              "  <thead>\n",
              "    <tr style=\"text-align: right;\">\n",
              "      <th></th>\n",
              "      <th>text</th>\n",
              "      <th>airline_sentiment</th>\n",
              "      <th>preprocessed_text</th>\n",
              "      <th>tweet_length</th>\n",
              "    </tr>\n",
              "  </thead>\n",
              "  <tbody>\n",
              "    <tr>\n",
              "      <th>0</th>\n",
              "      <td>@VirginAmerica What @dhepburn said.</td>\n",
              "      <td>neutral</td>\n",
              "      <td>[dhepburn, say]</td>\n",
              "      <td>35</td>\n",
              "    </tr>\n",
              "    <tr>\n",
              "      <th>1</th>\n",
              "      <td>@VirginAmerica plus you've added commercials t...</td>\n",
              "      <td>positive</td>\n",
              "      <td>[plus, add, commercial, experience, tacky]</td>\n",
              "      <td>72</td>\n",
              "    </tr>\n",
              "    <tr>\n",
              "      <th>2</th>\n",
              "      <td>@VirginAmerica I didn't today... Must mean I n...</td>\n",
              "      <td>neutral</td>\n",
              "      <td>[not, today, must, mean, need, take, another, ...</td>\n",
              "      <td>71</td>\n",
              "    </tr>\n",
              "    <tr>\n",
              "      <th>3</th>\n",
              "      <td>@VirginAmerica it's really aggressive to blast...</td>\n",
              "      <td>negative</td>\n",
              "      <td>[really, aggressive, blast, obnoxious, enterta...</td>\n",
              "      <td>126</td>\n",
              "    </tr>\n",
              "    <tr>\n",
              "      <th>4</th>\n",
              "      <td>@VirginAmerica and it's a really big bad thing...</td>\n",
              "      <td>negative</td>\n",
              "      <td>[really, big, bad, thing]</td>\n",
              "      <td>55</td>\n",
              "    </tr>\n",
              "    <tr>\n",
              "      <th>5</th>\n",
              "      <td>@VirginAmerica seriously would pay $30 a fligh...</td>\n",
              "      <td>negative</td>\n",
              "      <td>[seriously, would, pay, 30, flight, seat, not,...</td>\n",
              "      <td>135</td>\n",
              "    </tr>\n",
              "    <tr>\n",
              "      <th>6</th>\n",
              "      <td>@VirginAmerica yes, nearly every time I fly VX...</td>\n",
              "      <td>positive</td>\n",
              "      <td>[yes, nearly, every, time, fly, vx, ear, worm,...</td>\n",
              "      <td>79</td>\n",
              "    </tr>\n",
              "    <tr>\n",
              "      <th>7</th>\n",
              "      <td>@VirginAmerica Really missed a prime opportuni...</td>\n",
              "      <td>neutral</td>\n",
              "      <td>[really, miss, prime, opportunity, man, withou...</td>\n",
              "      <td>108</td>\n",
              "    </tr>\n",
              "    <tr>\n",
              "      <th>8</th>\n",
              "      <td>@virginamerica Well, I didn't…but NOW I DO! :-D</td>\n",
              "      <td>positive</td>\n",
              "      <td>[well, didntbut]</td>\n",
              "      <td>47</td>\n",
              "    </tr>\n",
              "    <tr>\n",
              "      <th>9</th>\n",
              "      <td>@VirginAmerica it was amazing, and arrived an ...</td>\n",
              "      <td>positive</td>\n",
              "      <td>[amazing, arrive, hour, early, good]</td>\n",
              "      <td>80</td>\n",
              "    </tr>\n",
              "    <tr>\n",
              "      <th>10</th>\n",
              "      <td>@VirginAmerica did you know that suicide is th...</td>\n",
              "      <td>neutral</td>\n",
              "      <td>[know, suicide, second, lead, cause, death, am...</td>\n",
              "      <td>95</td>\n",
              "    </tr>\n",
              "    <tr>\n",
              "      <th>11</th>\n",
              "      <td>@VirginAmerica I &amp;lt;3 pretty graphics. so muc...</td>\n",
              "      <td>positive</td>\n",
              "      <td>[lt, 3, pretty, graphic, much, well, minimal, ...</td>\n",
              "      <td>83</td>\n",
              "    </tr>\n",
              "    <tr>\n",
              "      <th>12</th>\n",
              "      <td>@VirginAmerica This is such a great deal! Alre...</td>\n",
              "      <td>positive</td>\n",
              "      <td>[great, deal, already, think, 2nd, trip, austr...</td>\n",
              "      <td>139</td>\n",
              "    </tr>\n",
              "    <tr>\n",
              "      <th>13</th>\n",
              "      <td>@VirginAmerica @virginmedia I'm flying your #f...</td>\n",
              "      <td>positive</td>\n",
              "      <td>[virginmedia, fly, fabulous, seductive, sky, u...</td>\n",
              "      <td>140</td>\n",
              "    </tr>\n",
              "    <tr>\n",
              "      <th>14</th>\n",
              "      <td>@VirginAmerica Thanks!</td>\n",
              "      <td>positive</td>\n",
              "      <td>[thank]</td>\n",
              "      <td>22</td>\n",
              "    </tr>\n",
              "    <tr>\n",
              "      <th>15</th>\n",
              "      <td>@VirginAmerica SFO-PDX schedule is still MIA.</td>\n",
              "      <td>negative</td>\n",
              "      <td>[sfopdx, schedule, still, mia]</td>\n",
              "      <td>45</td>\n",
              "    </tr>\n",
              "    <tr>\n",
              "      <th>16</th>\n",
              "      <td>@VirginAmerica So excited for my first cross c...</td>\n",
              "      <td>positive</td>\n",
              "      <td>[excite, first, cross, country, flight, lax, m...</td>\n",
              "      <td>140</td>\n",
              "    </tr>\n",
              "    <tr>\n",
              "      <th>17</th>\n",
              "      <td>@VirginAmerica  I flew from NYC to SFO last we...</td>\n",
              "      <td>negative</td>\n",
              "      <td>[fly, nyc, sfo, last, week, could, not, fully,...</td>\n",
              "      <td>137</td>\n",
              "    </tr>\n",
              "    <tr>\n",
              "      <th>18</th>\n",
              "      <td>I ❤️ flying @VirginAmerica. ☺️👍</td>\n",
              "      <td>positive</td>\n",
              "      <td>[redheart, fly, smilingface, thumbsup]</td>\n",
              "      <td>31</td>\n",
              "    </tr>\n",
              "    <tr>\n",
              "      <th>19</th>\n",
              "      <td>@VirginAmerica you know what would be amazingl...</td>\n",
              "      <td>positive</td>\n",
              "      <td>[know, would, amazingly, awesome, bosfll, plea...</td>\n",
              "      <td>107</td>\n",
              "    </tr>\n",
              "  </tbody>\n",
              "</table>\n",
              "</div>"
            ],
            "text/plain": [
              "                                                 text airline_sentiment  \\\n",
              "0                 @VirginAmerica What @dhepburn said.           neutral   \n",
              "1   @VirginAmerica plus you've added commercials t...          positive   \n",
              "2   @VirginAmerica I didn't today... Must mean I n...           neutral   \n",
              "3   @VirginAmerica it's really aggressive to blast...          negative   \n",
              "4   @VirginAmerica and it's a really big bad thing...          negative   \n",
              "5   @VirginAmerica seriously would pay $30 a fligh...          negative   \n",
              "6   @VirginAmerica yes, nearly every time I fly VX...          positive   \n",
              "7   @VirginAmerica Really missed a prime opportuni...           neutral   \n",
              "8     @virginamerica Well, I didn't…but NOW I DO! :-D          positive   \n",
              "9   @VirginAmerica it was amazing, and arrived an ...          positive   \n",
              "10  @VirginAmerica did you know that suicide is th...           neutral   \n",
              "11  @VirginAmerica I &lt;3 pretty graphics. so muc...          positive   \n",
              "12  @VirginAmerica This is such a great deal! Alre...          positive   \n",
              "13  @VirginAmerica @virginmedia I'm flying your #f...          positive   \n",
              "14                             @VirginAmerica Thanks!          positive   \n",
              "15      @VirginAmerica SFO-PDX schedule is still MIA.          negative   \n",
              "16  @VirginAmerica So excited for my first cross c...          positive   \n",
              "17  @VirginAmerica  I flew from NYC to SFO last we...          negative   \n",
              "18                    I ❤️ flying @VirginAmerica. ☺️👍          positive   \n",
              "19  @VirginAmerica you know what would be amazingl...          positive   \n",
              "\n",
              "                                    preprocessed_text  tweet_length  \n",
              "0                                     [dhepburn, say]            35  \n",
              "1          [plus, add, commercial, experience, tacky]            72  \n",
              "2   [not, today, must, mean, need, take, another, ...            71  \n",
              "3   [really, aggressive, blast, obnoxious, enterta...           126  \n",
              "4                           [really, big, bad, thing]            55  \n",
              "5   [seriously, would, pay, 30, flight, seat, not,...           135  \n",
              "6   [yes, nearly, every, time, fly, vx, ear, worm,...            79  \n",
              "7   [really, miss, prime, opportunity, man, withou...           108  \n",
              "8                                    [well, didntbut]            47  \n",
              "9                [amazing, arrive, hour, early, good]            80  \n",
              "10  [know, suicide, second, lead, cause, death, am...            95  \n",
              "11  [lt, 3, pretty, graphic, much, well, minimal, ...            83  \n",
              "12  [great, deal, already, think, 2nd, trip, austr...           139  \n",
              "13  [virginmedia, fly, fabulous, seductive, sky, u...           140  \n",
              "14                                            [thank]            22  \n",
              "15                     [sfopdx, schedule, still, mia]            45  \n",
              "16  [excite, first, cross, country, flight, lax, m...           140  \n",
              "17  [fly, nyc, sfo, last, week, could, not, fully,...           137  \n",
              "18             [redheart, fly, smilingface, thumbsup]            31  \n",
              "19  [know, would, amazingly, awesome, bosfll, plea...           107  "
            ]
          },
          "execution_count": 26,
          "metadata": {},
          "output_type": "execute_result"
        }
      ],
      "source": [
        "df['tweet_length'] = df['text'].str.len()\n",
        "\n",
        "df.head(20)"
      ]
    },
    {
      "cell_type": "markdown",
      "metadata": {
        "id": "GnkI8lg89Rfu"
      },
      "source": [
        "#### 2.6 -  Transform sentiment to numerical value"
      ]
    },
    {
      "cell_type": "markdown",
      "metadata": {
        "id": "6QMev9I19Rfu"
      },
      "source": [
        "Last thing to do is to transform the label into numerical value as : negative 0, positive 1, neutral 2."
      ]
    },
    {
      "cell_type": "code",
      "execution_count": 27,
      "metadata": {
        "colab": {
          "base_uri": "https://localhost:8080/",
          "height": 972
        },
        "id": "f5AGwwdU9Rfu",
        "outputId": "a5da2e6c-83eb-466c-a120-17b66c9b3573"
      },
      "outputs": [
        {
          "data": {
            "text/html": [
              "<div>\n",
              "<style scoped>\n",
              "    .dataframe tbody tr th:only-of-type {\n",
              "        vertical-align: middle;\n",
              "    }\n",
              "\n",
              "    .dataframe tbody tr th {\n",
              "        vertical-align: top;\n",
              "    }\n",
              "\n",
              "    .dataframe thead th {\n",
              "        text-align: right;\n",
              "    }\n",
              "</style>\n",
              "<table border=\"1\" class=\"dataframe\">\n",
              "  <thead>\n",
              "    <tr style=\"text-align: right;\">\n",
              "      <th></th>\n",
              "      <th>text</th>\n",
              "      <th>airline_sentiment</th>\n",
              "      <th>preprocessed_text</th>\n",
              "      <th>tweet_length</th>\n",
              "    </tr>\n",
              "  </thead>\n",
              "  <tbody>\n",
              "    <tr>\n",
              "      <th>0</th>\n",
              "      <td>@VirginAmerica What @dhepburn said.</td>\n",
              "      <td>2</td>\n",
              "      <td>[dhepburn, say]</td>\n",
              "      <td>35</td>\n",
              "    </tr>\n",
              "    <tr>\n",
              "      <th>1</th>\n",
              "      <td>@VirginAmerica plus you've added commercials t...</td>\n",
              "      <td>1</td>\n",
              "      <td>[plus, add, commercial, experience, tacky]</td>\n",
              "      <td>72</td>\n",
              "    </tr>\n",
              "    <tr>\n",
              "      <th>2</th>\n",
              "      <td>@VirginAmerica I didn't today... Must mean I n...</td>\n",
              "      <td>2</td>\n",
              "      <td>[not, today, must, mean, need, take, another, ...</td>\n",
              "      <td>71</td>\n",
              "    </tr>\n",
              "    <tr>\n",
              "      <th>3</th>\n",
              "      <td>@VirginAmerica it's really aggressive to blast...</td>\n",
              "      <td>0</td>\n",
              "      <td>[really, aggressive, blast, obnoxious, enterta...</td>\n",
              "      <td>126</td>\n",
              "    </tr>\n",
              "    <tr>\n",
              "      <th>4</th>\n",
              "      <td>@VirginAmerica and it's a really big bad thing...</td>\n",
              "      <td>0</td>\n",
              "      <td>[really, big, bad, thing]</td>\n",
              "      <td>55</td>\n",
              "    </tr>\n",
              "    <tr>\n",
              "      <th>5</th>\n",
              "      <td>@VirginAmerica seriously would pay $30 a fligh...</td>\n",
              "      <td>0</td>\n",
              "      <td>[seriously, would, pay, 30, flight, seat, not,...</td>\n",
              "      <td>135</td>\n",
              "    </tr>\n",
              "    <tr>\n",
              "      <th>6</th>\n",
              "      <td>@VirginAmerica yes, nearly every time I fly VX...</td>\n",
              "      <td>1</td>\n",
              "      <td>[yes, nearly, every, time, fly, vx, ear, worm,...</td>\n",
              "      <td>79</td>\n",
              "    </tr>\n",
              "    <tr>\n",
              "      <th>7</th>\n",
              "      <td>@VirginAmerica Really missed a prime opportuni...</td>\n",
              "      <td>2</td>\n",
              "      <td>[really, miss, prime, opportunity, man, withou...</td>\n",
              "      <td>108</td>\n",
              "    </tr>\n",
              "    <tr>\n",
              "      <th>8</th>\n",
              "      <td>@virginamerica Well, I didn't…but NOW I DO! :-D</td>\n",
              "      <td>1</td>\n",
              "      <td>[well, didntbut]</td>\n",
              "      <td>47</td>\n",
              "    </tr>\n",
              "    <tr>\n",
              "      <th>9</th>\n",
              "      <td>@VirginAmerica it was amazing, and arrived an ...</td>\n",
              "      <td>1</td>\n",
              "      <td>[amazing, arrive, hour, early, good]</td>\n",
              "      <td>80</td>\n",
              "    </tr>\n",
              "    <tr>\n",
              "      <th>10</th>\n",
              "      <td>@VirginAmerica did you know that suicide is th...</td>\n",
              "      <td>2</td>\n",
              "      <td>[know, suicide, second, lead, cause, death, am...</td>\n",
              "      <td>95</td>\n",
              "    </tr>\n",
              "    <tr>\n",
              "      <th>11</th>\n",
              "      <td>@VirginAmerica I &amp;lt;3 pretty graphics. so muc...</td>\n",
              "      <td>1</td>\n",
              "      <td>[lt, 3, pretty, graphic, much, well, minimal, ...</td>\n",
              "      <td>83</td>\n",
              "    </tr>\n",
              "    <tr>\n",
              "      <th>12</th>\n",
              "      <td>@VirginAmerica This is such a great deal! Alre...</td>\n",
              "      <td>1</td>\n",
              "      <td>[great, deal, already, think, 2nd, trip, austr...</td>\n",
              "      <td>139</td>\n",
              "    </tr>\n",
              "    <tr>\n",
              "      <th>13</th>\n",
              "      <td>@VirginAmerica @virginmedia I'm flying your #f...</td>\n",
              "      <td>1</td>\n",
              "      <td>[virginmedia, fly, fabulous, seductive, sky, u...</td>\n",
              "      <td>140</td>\n",
              "    </tr>\n",
              "    <tr>\n",
              "      <th>14</th>\n",
              "      <td>@VirginAmerica Thanks!</td>\n",
              "      <td>1</td>\n",
              "      <td>[thank]</td>\n",
              "      <td>22</td>\n",
              "    </tr>\n",
              "    <tr>\n",
              "      <th>15</th>\n",
              "      <td>@VirginAmerica SFO-PDX schedule is still MIA.</td>\n",
              "      <td>0</td>\n",
              "      <td>[sfopdx, schedule, still, mia]</td>\n",
              "      <td>45</td>\n",
              "    </tr>\n",
              "    <tr>\n",
              "      <th>16</th>\n",
              "      <td>@VirginAmerica So excited for my first cross c...</td>\n",
              "      <td>1</td>\n",
              "      <td>[excite, first, cross, country, flight, lax, m...</td>\n",
              "      <td>140</td>\n",
              "    </tr>\n",
              "    <tr>\n",
              "      <th>17</th>\n",
              "      <td>@VirginAmerica  I flew from NYC to SFO last we...</td>\n",
              "      <td>0</td>\n",
              "      <td>[fly, nyc, sfo, last, week, could, not, fully,...</td>\n",
              "      <td>137</td>\n",
              "    </tr>\n",
              "    <tr>\n",
              "      <th>18</th>\n",
              "      <td>I ❤️ flying @VirginAmerica. ☺️👍</td>\n",
              "      <td>1</td>\n",
              "      <td>[redheart, fly, smilingface, thumbsup]</td>\n",
              "      <td>31</td>\n",
              "    </tr>\n",
              "    <tr>\n",
              "      <th>19</th>\n",
              "      <td>@VirginAmerica you know what would be amazingl...</td>\n",
              "      <td>1</td>\n",
              "      <td>[know, would, amazingly, awesome, bosfll, plea...</td>\n",
              "      <td>107</td>\n",
              "    </tr>\n",
              "  </tbody>\n",
              "</table>\n",
              "</div>"
            ],
            "text/plain": [
              "                                                 text  airline_sentiment  \\\n",
              "0                 @VirginAmerica What @dhepburn said.                  2   \n",
              "1   @VirginAmerica plus you've added commercials t...                  1   \n",
              "2   @VirginAmerica I didn't today... Must mean I n...                  2   \n",
              "3   @VirginAmerica it's really aggressive to blast...                  0   \n",
              "4   @VirginAmerica and it's a really big bad thing...                  0   \n",
              "5   @VirginAmerica seriously would pay $30 a fligh...                  0   \n",
              "6   @VirginAmerica yes, nearly every time I fly VX...                  1   \n",
              "7   @VirginAmerica Really missed a prime opportuni...                  2   \n",
              "8     @virginamerica Well, I didn't…but NOW I DO! :-D                  1   \n",
              "9   @VirginAmerica it was amazing, and arrived an ...                  1   \n",
              "10  @VirginAmerica did you know that suicide is th...                  2   \n",
              "11  @VirginAmerica I &lt;3 pretty graphics. so muc...                  1   \n",
              "12  @VirginAmerica This is such a great deal! Alre...                  1   \n",
              "13  @VirginAmerica @virginmedia I'm flying your #f...                  1   \n",
              "14                             @VirginAmerica Thanks!                  1   \n",
              "15      @VirginAmerica SFO-PDX schedule is still MIA.                  0   \n",
              "16  @VirginAmerica So excited for my first cross c...                  1   \n",
              "17  @VirginAmerica  I flew from NYC to SFO last we...                  0   \n",
              "18                    I ❤️ flying @VirginAmerica. ☺️👍                  1   \n",
              "19  @VirginAmerica you know what would be amazingl...                  1   \n",
              "\n",
              "                                    preprocessed_text  tweet_length  \n",
              "0                                     [dhepburn, say]            35  \n",
              "1          [plus, add, commercial, experience, tacky]            72  \n",
              "2   [not, today, must, mean, need, take, another, ...            71  \n",
              "3   [really, aggressive, blast, obnoxious, enterta...           126  \n",
              "4                           [really, big, bad, thing]            55  \n",
              "5   [seriously, would, pay, 30, flight, seat, not,...           135  \n",
              "6   [yes, nearly, every, time, fly, vx, ear, worm,...            79  \n",
              "7   [really, miss, prime, opportunity, man, withou...           108  \n",
              "8                                    [well, didntbut]            47  \n",
              "9                [amazing, arrive, hour, early, good]            80  \n",
              "10  [know, suicide, second, lead, cause, death, am...            95  \n",
              "11  [lt, 3, pretty, graphic, much, well, minimal, ...            83  \n",
              "12  [great, deal, already, think, 2nd, trip, austr...           139  \n",
              "13  [virginmedia, fly, fabulous, seductive, sky, u...           140  \n",
              "14                                            [thank]            22  \n",
              "15                     [sfopdx, schedule, still, mia]            45  \n",
              "16  [excite, first, cross, country, flight, lax, m...           140  \n",
              "17  [fly, nyc, sfo, last, week, could, not, fully,...           137  \n",
              "18             [redheart, fly, smilingface, thumbsup]            31  \n",
              "19  [know, would, amazingly, awesome, bosfll, plea...           107  "
            ]
          },
          "execution_count": 27,
          "metadata": {},
          "output_type": "execute_result"
        }
      ],
      "source": [
        "df['airline_sentiment'] = df['airline_sentiment'].replace({'negative': 0, 'neutral': 2, 'positive': 1})\n",
        "df.head(20)"
      ]
    },
    {
      "cell_type": "code",
      "execution_count": 28,
      "metadata": {
        "colab": {
          "base_uri": "https://localhost:8080/",
          "height": 989
        },
        "id": "rwmVjyAc9Rfv",
        "outputId": "1c4de0bc-4f51-4327-c470-2c962aa23ea5"
      },
      "outputs": [
        {
          "data": {
            "text/html": [
              "<div>\n",
              "<style scoped>\n",
              "    .dataframe tbody tr th:only-of-type {\n",
              "        vertical-align: middle;\n",
              "    }\n",
              "\n",
              "    .dataframe tbody tr th {\n",
              "        vertical-align: top;\n",
              "    }\n",
              "\n",
              "    .dataframe thead th {\n",
              "        text-align: right;\n",
              "    }\n",
              "</style>\n",
              "<table border=\"1\" class=\"dataframe\">\n",
              "  <thead>\n",
              "    <tr style=\"text-align: right;\">\n",
              "      <th></th>\n",
              "      <th>text</th>\n",
              "      <th>airline_sentiment</th>\n",
              "      <th>preprocessed_text</th>\n",
              "      <th>tweet_length</th>\n",
              "    </tr>\n",
              "  </thead>\n",
              "  <tbody>\n",
              "    <tr>\n",
              "      <th>0</th>\n",
              "      <td>@VirginAmerica What @dhepburn said.</td>\n",
              "      <td>2</td>\n",
              "      <td>dhepburn say</td>\n",
              "      <td>35</td>\n",
              "    </tr>\n",
              "    <tr>\n",
              "      <th>1</th>\n",
              "      <td>@VirginAmerica plus you've added commercials t...</td>\n",
              "      <td>1</td>\n",
              "      <td>plus add commercial experience tacky</td>\n",
              "      <td>72</td>\n",
              "    </tr>\n",
              "    <tr>\n",
              "      <th>2</th>\n",
              "      <td>@VirginAmerica I didn't today... Must mean I n...</td>\n",
              "      <td>2</td>\n",
              "      <td>not today must mean need take another trip</td>\n",
              "      <td>71</td>\n",
              "    </tr>\n",
              "    <tr>\n",
              "      <th>3</th>\n",
              "      <td>@VirginAmerica it's really aggressive to blast...</td>\n",
              "      <td>0</td>\n",
              "      <td>really aggressive blast obnoxious entertainmen...</td>\n",
              "      <td>126</td>\n",
              "    </tr>\n",
              "    <tr>\n",
              "      <th>4</th>\n",
              "      <td>@VirginAmerica and it's a really big bad thing...</td>\n",
              "      <td>0</td>\n",
              "      <td>really big bad thing</td>\n",
              "      <td>55</td>\n",
              "    </tr>\n",
              "    <tr>\n",
              "      <th>5</th>\n",
              "      <td>@VirginAmerica seriously would pay $30 a fligh...</td>\n",
              "      <td>0</td>\n",
              "      <td>seriously would pay 30 flight seat not play re...</td>\n",
              "      <td>135</td>\n",
              "    </tr>\n",
              "    <tr>\n",
              "      <th>6</th>\n",
              "      <td>@VirginAmerica yes, nearly every time I fly VX...</td>\n",
              "      <td>1</td>\n",
              "      <td>yes nearly every time fly vx ear worm go away</td>\n",
              "      <td>79</td>\n",
              "    </tr>\n",
              "    <tr>\n",
              "      <th>7</th>\n",
              "      <td>@VirginAmerica Really missed a prime opportuni...</td>\n",
              "      <td>2</td>\n",
              "      <td>really miss prime opportunity man without hat ...</td>\n",
              "      <td>108</td>\n",
              "    </tr>\n",
              "    <tr>\n",
              "      <th>8</th>\n",
              "      <td>@virginamerica Well, I didn't…but NOW I DO! :-D</td>\n",
              "      <td>1</td>\n",
              "      <td>well didntbut</td>\n",
              "      <td>47</td>\n",
              "    </tr>\n",
              "    <tr>\n",
              "      <th>9</th>\n",
              "      <td>@VirginAmerica it was amazing, and arrived an ...</td>\n",
              "      <td>1</td>\n",
              "      <td>amazing arrive hour early good</td>\n",
              "      <td>80</td>\n",
              "    </tr>\n",
              "    <tr>\n",
              "      <th>10</th>\n",
              "      <td>@VirginAmerica did you know that suicide is th...</td>\n",
              "      <td>2</td>\n",
              "      <td>know suicide second lead cause death among tee...</td>\n",
              "      <td>95</td>\n",
              "    </tr>\n",
              "    <tr>\n",
              "      <th>11</th>\n",
              "      <td>@VirginAmerica I &amp;lt;3 pretty graphics. so muc...</td>\n",
              "      <td>1</td>\n",
              "      <td>lt 3 pretty graphic much well minimal iconography</td>\n",
              "      <td>83</td>\n",
              "    </tr>\n",
              "    <tr>\n",
              "      <th>12</th>\n",
              "      <td>@VirginAmerica This is such a great deal! Alre...</td>\n",
              "      <td>1</td>\n",
              "      <td>great deal already think 2nd trip australia am...</td>\n",
              "      <td>139</td>\n",
              "    </tr>\n",
              "    <tr>\n",
              "      <th>13</th>\n",
              "      <td>@VirginAmerica @virginmedia I'm flying your #f...</td>\n",
              "      <td>1</td>\n",
              "      <td>virginmedia fly fabulous seductive sky u take ...</td>\n",
              "      <td>140</td>\n",
              "    </tr>\n",
              "    <tr>\n",
              "      <th>14</th>\n",
              "      <td>@VirginAmerica Thanks!</td>\n",
              "      <td>1</td>\n",
              "      <td>thank</td>\n",
              "      <td>22</td>\n",
              "    </tr>\n",
              "    <tr>\n",
              "      <th>15</th>\n",
              "      <td>@VirginAmerica SFO-PDX schedule is still MIA.</td>\n",
              "      <td>0</td>\n",
              "      <td>sfopdx schedule still mia</td>\n",
              "      <td>45</td>\n",
              "    </tr>\n",
              "    <tr>\n",
              "      <th>16</th>\n",
              "      <td>@VirginAmerica So excited for my first cross c...</td>\n",
              "      <td>1</td>\n",
              "      <td>excite first cross country flight lax mco hear...</td>\n",
              "      <td>140</td>\n",
              "    </tr>\n",
              "    <tr>\n",
              "      <th>17</th>\n",
              "      <td>@VirginAmerica  I flew from NYC to SFO last we...</td>\n",
              "      <td>0</td>\n",
              "      <td>fly nyc sfo last week could not fully sit seat...</td>\n",
              "      <td>137</td>\n",
              "    </tr>\n",
              "    <tr>\n",
              "      <th>18</th>\n",
              "      <td>I ❤️ flying @VirginAmerica. ☺️👍</td>\n",
              "      <td>1</td>\n",
              "      <td>redheart fly smilingface thumbsup</td>\n",
              "      <td>31</td>\n",
              "    </tr>\n",
              "    <tr>\n",
              "      <th>19</th>\n",
              "      <td>@VirginAmerica you know what would be amazingl...</td>\n",
              "      <td>1</td>\n",
              "      <td>know would amazingly awesome bosfll please wan...</td>\n",
              "      <td>107</td>\n",
              "    </tr>\n",
              "  </tbody>\n",
              "</table>\n",
              "</div>"
            ],
            "text/plain": [
              "                                                 text  airline_sentiment  \\\n",
              "0                 @VirginAmerica What @dhepburn said.                  2   \n",
              "1   @VirginAmerica plus you've added commercials t...                  1   \n",
              "2   @VirginAmerica I didn't today... Must mean I n...                  2   \n",
              "3   @VirginAmerica it's really aggressive to blast...                  0   \n",
              "4   @VirginAmerica and it's a really big bad thing...                  0   \n",
              "5   @VirginAmerica seriously would pay $30 a fligh...                  0   \n",
              "6   @VirginAmerica yes, nearly every time I fly VX...                  1   \n",
              "7   @VirginAmerica Really missed a prime opportuni...                  2   \n",
              "8     @virginamerica Well, I didn't…but NOW I DO! :-D                  1   \n",
              "9   @VirginAmerica it was amazing, and arrived an ...                  1   \n",
              "10  @VirginAmerica did you know that suicide is th...                  2   \n",
              "11  @VirginAmerica I &lt;3 pretty graphics. so muc...                  1   \n",
              "12  @VirginAmerica This is such a great deal! Alre...                  1   \n",
              "13  @VirginAmerica @virginmedia I'm flying your #f...                  1   \n",
              "14                             @VirginAmerica Thanks!                  1   \n",
              "15      @VirginAmerica SFO-PDX schedule is still MIA.                  0   \n",
              "16  @VirginAmerica So excited for my first cross c...                  1   \n",
              "17  @VirginAmerica  I flew from NYC to SFO last we...                  0   \n",
              "18                    I ❤️ flying @VirginAmerica. ☺️👍                  1   \n",
              "19  @VirginAmerica you know what would be amazingl...                  1   \n",
              "\n",
              "                                    preprocessed_text  tweet_length  \n",
              "0                                        dhepburn say            35  \n",
              "1                plus add commercial experience tacky            72  \n",
              "2          not today must mean need take another trip            71  \n",
              "3   really aggressive blast obnoxious entertainmen...           126  \n",
              "4                                really big bad thing            55  \n",
              "5   seriously would pay 30 flight seat not play re...           135  \n",
              "6       yes nearly every time fly vx ear worm go away            79  \n",
              "7   really miss prime opportunity man without hat ...           108  \n",
              "8                                       well didntbut            47  \n",
              "9                      amazing arrive hour early good            80  \n",
              "10  know suicide second lead cause death among tee...            95  \n",
              "11  lt 3 pretty graphic much well minimal iconography            83  \n",
              "12  great deal already think 2nd trip australia am...           139  \n",
              "13  virginmedia fly fabulous seductive sky u take ...           140  \n",
              "14                                              thank            22  \n",
              "15                          sfopdx schedule still mia            45  \n",
              "16  excite first cross country flight lax mco hear...           140  \n",
              "17  fly nyc sfo last week could not fully sit seat...           137  \n",
              "18                  redheart fly smilingface thumbsup            31  \n",
              "19  know would amazingly awesome bosfll please wan...           107  "
            ]
          },
          "execution_count": 28,
          "metadata": {},
          "output_type": "execute_result"
        }
      ],
      "source": [
        "df['preprocessed_text'] = df['preprocessed_text'].apply(lambda x: ' '.join(x))   # useful later for TfidfVectorizer\n",
        "df.head(20)"
      ]
    },
    {
      "cell_type": "markdown",
      "metadata": {
        "id": "J41B0pmd9Rfv"
      },
      "source": [
        "# 3. Modelisation"
      ]
    },
    {
      "cell_type": "code",
      "execution_count": 29,
      "metadata": {},
      "outputs": [],
      "source": [
        "def metrics(y_train, y_train_pred, y_test, y_test_pred, architecture_name):\n",
        "    accuracy = accuracy_score(y_train, y_train_pred)\n",
        "    print(f\"Accuracy of {architecture_name} on train set: {accuracy}\")\n",
        "\n",
        "    accuracy = accuracy_score(y_test, y_test_pred)\n",
        "    print(f\"Accuracy of {architecture_name} on test set: {accuracy} \\n\")\n",
        "\n",
        "    print(f\"Classification Report of {architecture_name} :\")\n",
        "    print(classification_report(y_test, y_test_pred, zero_division=0))"
      ]
    },
    {
      "cell_type": "markdown",
      "metadata": {},
      "source": [
        "#### Random Guess"
      ]
    },
    {
      "cell_type": "code",
      "execution_count": null,
      "metadata": {},
      "outputs": [],
      "source": [
        "architecture_name = \"Random Guess\"\n",
        "\n",
        "X = df['preprocessed_text']\n",
        "y = df['airline_sentiment']\n",
        "\n",
        "# Splitting the dataset\n",
        "X_train, X_test, y_train, y_test = train_test_split(X, y, test_size=0.2, random_state=42)\n",
        "\n",
        "# Evaluation\n",
        "np.random.seed(42)\n",
        "y_train_pred = np.random.randint(3, size=len(y_train))\n",
        "y_test_pred = np.random.randint(3, size=len(y_test))\n",
        "\n",
        "metrics(y_train, y_train_pred, y_test, y_test_pred, architecture_name)"
      ]
    },
    {
      "cell_type": "markdown",
      "metadata": {
        "id": "y-rFfTjZ9Rfv"
      },
      "source": [
        "##### 3.1 - Always predicting negative"
      ]
    },
    {
      "cell_type": "code",
      "execution_count": null,
      "metadata": {
        "colab": {
          "base_uri": "https://localhost:8080/"
        },
        "id": "t6147men9Rfv",
        "outputId": "fe539c21-3ab8-4a3b-cc2a-7a7a9dd47fb5"
      },
      "outputs": [],
      "source": [
        "architecture_name = \"Always predicting negative\"\n",
        "\n",
        "\n",
        "X = df['preprocessed_text']\n",
        "y = df['airline_sentiment']\n",
        "\n",
        "# Splitting the dataset\n",
        "X_train, X_test, y_train, y_test = train_test_split(X, y, test_size=0.2, random_state=42)\n",
        "\n",
        "# Evaluation\n",
        "y_train_pred = [0] * len(X_train)\n",
        "y_test_pred = [0] * len(X_test)\n",
        "\n",
        "metrics(y_train, y_train_pred, y_test, y_test_pred, architecture_name)"
      ]
    },
    {
      "cell_type": "markdown",
      "metadata": {
        "id": "ua5OidrX9Rfv"
      },
      "source": [
        "#### 3.2 - Logistic Regression with TF-IDF"
      ]
    },
    {
      "cell_type": "code",
      "execution_count": null,
      "metadata": {
        "colab": {
          "base_uri": "https://localhost:8080/"
        },
        "id": "YXe3fuUo9Rfw",
        "outputId": "88b6bae5-52d3-4f0a-88ac-a097b2c3b613"
      },
      "outputs": [],
      "source": [
        "architecture_name = \"Logistic Regression TF-IDF\"\n",
        "\n",
        "X = df['preprocessed_text']\n",
        "y = df['airline_sentiment']\n",
        "\n",
        "# Splitting the dataset\n",
        "X_train, X_test, y_train, y_test = train_test_split(X, y, test_size=0.2, random_state=42)\n",
        "\n",
        "# Pipeline Logistic Regression with TF-IDF\n",
        "pipeline = Pipeline([\n",
        "    ('tfidf', TfidfVectorizer(max_features=5000)),\n",
        "    ('classifier', LogisticRegression(max_iter=1000))\n",
        "])\n",
        "\n",
        "# Training the Pipeline\n",
        "pipeline.fit(X_train, y_train)\n",
        "\n",
        "\n",
        "\n",
        "# Code before Pipeline\n",
        "# # TF-IDF\n",
        "# tfidf_vectorizer = TfidfVectorizer(max_features=5000)\n",
        "# X_train = tfidf_vectorizer.fit_transform(X_train)\n",
        "# X_test = tfidf_vectorizer.transform(X_test)\n",
        "\n",
        "# # Logistic Regression training\n",
        "# logreg_model = LogisticRegression(max_iter=1000)\n",
        "# logreg_model.fit(X_train, y_train)\n",
        "\n",
        "\n",
        "\n",
        "# Evaluation\n",
        "y_train_pred = pipeline.predict(X_train)\n",
        "y_test_pred = pipeline.predict(X_test)\n",
        "\n",
        "metrics(y_train, y_train_pred, y_test, y_test_pred, architecture_name)"
      ]
    },
    {
      "cell_type": "markdown",
      "metadata": {
        "id": "QSYLONMc9Rfw"
      },
      "source": [
        "#### 3.3 - Logistic Regression with TF-IDF & tweet length"
      ]
    },
    {
      "cell_type": "code",
      "execution_count": null,
      "metadata": {
        "colab": {
          "base_uri": "https://localhost:8080/"
        },
        "id": "pDSKhSEN9Rfw",
        "outputId": "56a39466-428c-4798-9f19-d0ec2f9a61cd"
      },
      "outputs": [],
      "source": [
        "architecture_name = \"Logistic Regression TF-IDF & tweet length\"\n",
        "\n",
        "X = df[['preprocessed_text', 'tweet_length']]\n",
        "y = df['airline_sentiment']\n",
        "\n",
        "# Splitting the dataset\n",
        "X_train, X_test, y_train, y_test = train_test_split(X, y, test_size=0.2, random_state=42)\n",
        "\n",
        "# Pipeline Logistic Regression with TF-IDF & tweet length\n",
        "pipeline = Pipeline([\n",
        "    ('column_transformer', ColumnTransformer([\n",
        "        ('tfidf', TfidfVectorizer(max_features=5000), 'preprocessed_text'),\n",
        "        ('tweet_length', 'passthrough', ['tweet_length'])\n",
        "    ])),\n",
        "    ('classifier', LogisticRegression(max_iter=1000))\n",
        "])\n",
        "\n",
        "# Training the Pipeline\n",
        "pipeline.fit(X_train, y_train)\n",
        "\n",
        "# Evaluation\n",
        "y_train_pred = pipeline.predict(X_train)\n",
        "y_test_pred = pipeline.predict(X_test)\n",
        "\n",
        "metrics(y_train, y_train_pred, y_test, y_test_pred, architecture_name)"
      ]
    },
    {
      "cell_type": "markdown",
      "metadata": {
        "id": "aKySdSoV9Rfx"
      },
      "source": [
        "#### 3.4 - Naive Bayes TF-IDF"
      ]
    },
    {
      "cell_type": "code",
      "execution_count": null,
      "metadata": {
        "colab": {
          "base_uri": "https://localhost:8080/"
        },
        "id": "7PlxOsv-9Rfx",
        "outputId": "06e00fee-8b9b-4bc5-cb82-3bf34d32fe2b"
      },
      "outputs": [],
      "source": [
        "architecture_name = \"Naive Bayes TF-IDF\"\n",
        "\n",
        "X = df['preprocessed_text']\n",
        "y = df['airline_sentiment']\n",
        "\n",
        "# Split data into train and test sets\n",
        "X_train, X_test, y_train, y_test = train_test_split(X, y, test_size=0.2, random_state=42)\n",
        "\n",
        "# Pipeline Naive Bayes with TF-IDF\n",
        "pipeline = Pipeline([\n",
        "    ('tfidf', TfidfVectorizer(max_features=5000)),\n",
        "    ('classifier', MultinomialNB())\n",
        "])\n",
        "\n",
        "# Training the Pipeline\n",
        "pipeline.fit(X_train, y_train)\n",
        "\n",
        "# Evaluation\n",
        "y_train_pred = pipeline.predict(X_train)\n",
        "y_test_pred = pipeline.predict(X_test)\n",
        "\n",
        "metrics(y_train, y_train_pred, y_test, y_test_pred, architecture_name)"
      ]
    },
    {
      "cell_type": "markdown",
      "metadata": {
        "id": "aAZW3aet9Rfx"
      },
      "source": [
        "#### Naive Bayes TD-IDF & tweet length"
      ]
    },
    {
      "cell_type": "code",
      "execution_count": null,
      "metadata": {
        "colab": {
          "base_uri": "https://localhost:8080/"
        },
        "id": "XurxfrXu9Rfx",
        "outputId": "0a9d02fb-7fab-480f-80da-447182c8c821"
      },
      "outputs": [],
      "source": [
        "architecture_name = \"Naive Bayes TF-IDF & tweet length\"\n",
        "\n",
        "X = df[['preprocessed_text', 'tweet_length']]\n",
        "y = df['airline_sentiment']\n",
        "\n",
        "# Splitting the dataset\n",
        "X_train, X_test, y_train, y_test = train_test_split(X, y, test_size=0.2, random_state=42)\n",
        "\n",
        "# Pipeline Naive Bayes with TF-IDF & tweet length\n",
        "pipeline = Pipeline([\n",
        "    ('column_transformer', ColumnTransformer([\n",
        "        ('tfidf', TfidfVectorizer(max_features=5000), 'preprocessed_text'),\n",
        "        ('tweet_length', 'passthrough', ['tweet_length'])\n",
        "    ])),\n",
        "    ('classifier', MultinomialNB())\n",
        "])\n",
        "\n",
        "# Training the Pipeline\n",
        "pipeline.fit(X_train, y_train)\n",
        "\n",
        "# Evaluation\n",
        "y_train_pred = pipeline.predict(X_train)\n",
        "y_test_pred = pipeline.predict(X_test)\n",
        "\n",
        "metrics(y_train, y_train_pred, y_test, y_test_pred, architecture_name)"
      ]
    },
    {
      "cell_type": "markdown",
      "metadata": {
        "id": "JcZ9rR1R9Rfy"
      },
      "source": [
        "#### Logistic Regression TF 2-gram"
      ]
    },
    {
      "cell_type": "code",
      "execution_count": null,
      "metadata": {
        "colab": {
          "base_uri": "https://localhost:8080/"
        },
        "id": "oZGMILkl9Rfy",
        "outputId": "9bf100c3-702b-4f1d-c937-0e544c321079"
      },
      "outputs": [],
      "source": [
        "architecture_name = \"Logistic Regression TF 2-gram\"\n",
        "\n",
        "\n",
        "X = df['text']\n",
        "y = df['airline_sentiment']\n",
        "\n",
        "# Splitting the dataset\n",
        "X_train, X_test, y_train, y_test = train_test_split(X, y, test_size=0.2, random_state=42)\n",
        "\n",
        "# Pipeline Logistic Regression with TF 1-gram and 2-gram\n",
        "pipeline = Pipeline([\n",
        "    ('tfidf', CountVectorizer(ngram_range=(1, 2))),\n",
        "    ('classifier', LogisticRegression(max_iter=1000))\n",
        "])\n",
        "\n",
        "# Training the Pipeline\n",
        "pipeline.fit(X_train, y_train)\n",
        "\n",
        "# Evaluation\n",
        "y_train_pred = pipeline.predict(X_train)\n",
        "y_test_pred = pipeline.predict(X_test)\n",
        "\n",
        "metrics(y_train, y_train_pred, y_test, y_test_pred, architecture_name)"
      ]
    },
    {
      "cell_type": "markdown",
      "metadata": {
        "id": "w7wMY_zp9Rfy"
      },
      "source": [
        "#### Logistic Regression TF 2-gram + TD-IDF 4-gram + TD-IDF"
      ]
    },
    {
      "cell_type": "code",
      "execution_count": null,
      "metadata": {
        "colab": {
          "base_uri": "https://localhost:8080/"
        },
        "id": "P8WXlGav9Rfy",
        "outputId": "60448d81-a2cc-41ca-8c1c-4812780d20c8"
      },
      "outputs": [],
      "source": [
        "architecture_name = \"Logistic Regression TF 2-gram + TD-IDF 4-gram + TD-IDF\"\n",
        "\n",
        "\n",
        "X = df[['text', 'preprocessed_text']]\n",
        "y = df['airline_sentiment']\n",
        "\n",
        "# Splitting the dataset\n",
        "X_train, X_test, y_train, y_test = train_test_split(X, y, test_size=0.2, random_state=42)\n",
        "\n",
        "# Pipeline Logistic Regression with TF 2-gram + TD-IDF 4-gram + TD-IDF\n",
        "pipeline = Pipeline([\n",
        "    ('vectorizer', ColumnTransformer([\n",
        "        ('count', CountVectorizer(ngram_range=(1, 2)), 'text'),\n",
        "        ('tfidf', TfidfVectorizer(ngram_range=(1, 4)), 'text'),\n",
        "        ('tfidf2', TfidfVectorizer(max_features=5000), 'preprocessed_text')\n",
        "    ])),\n",
        "    ('classifier', LogisticRegression(max_iter=1000))\n",
        "])\n",
        "\n",
        "# Training the Pipeline\n",
        "pipeline.fit(X_train, y_train)\n",
        "\n",
        "# Evaluation\n",
        "y_train_pred = pipeline.predict(X_train)\n",
        "y_test_pred = pipeline.predict(X_test)\n",
        "\n",
        "metrics(y_train, y_train_pred, y_test, y_test_pred, architecture_name)"
      ]
    },
    {
      "cell_type": "markdown",
      "metadata": {
        "id": "DXxrGFBO9Rfy"
      },
      "source": [
        "#### Pre-trained model : Distilbert finetuned on SST2"
      ]
    },
    {
      "cell_type": "code",
      "execution_count": null,
      "metadata": {
        "colab": {
          "base_uri": "https://localhost:8080/"
        },
        "id": "wfMvcFnp9Rfz",
        "outputId": "927971d7-5d4c-469a-fc5f-3b5b053d1f67"
      },
      "outputs": [],
      "source": [
        "architecture_name = \"Distilbert finetuned on SST2\"\n",
        "\n",
        "if google_colab:\n",
        "    device = torch.device(\"cuda\" if torch.cuda.is_available() else \"cpu\")\n",
        "    print(\"Using \", device)\n",
        "    X = df['text']\n",
        "    y = df['airline_sentiment']\n",
        "\n",
        "    # Splitting the dataset\n",
        "    X_train, X_test, y_train, y_test = train_test_split(X, y, test_size=0.2, random_state=42)\n",
        "\n",
        "    # Load Distilbert finetuned on SST2 and its tokenizer\n",
        "    tokenizer = AutoTokenizer.from_pretrained(\"distilbert-base-uncased-finetuned-sst-2-english\")\n",
        "    model = AutoModelForSequenceClassification.from_pretrained(\"distilbert-base-uncased-finetuned-sst-2-english\").to(device)\n",
        "\n",
        "    # Pre-processing the tweet\n",
        "    inputs_test = tokenizer(X_test.tolist(), padding=True, truncation=True, return_tensors=\"pt\").to(device)\n",
        "\n",
        "    # Pre-processing the y\n",
        "    labels_test = torch.tensor(y_test.tolist()).to(device)\n",
        "\n",
        "    # Pre-processing the dataset\n",
        "    test_dataset = TensorDataset(inputs_test['input_ids'], inputs_test['attention_mask'], labels_test)\n",
        "    test_loader = DataLoader(test_dataset, batch_size=16, shuffle=False)\n",
        "\n",
        "    # Evaluation\n",
        "    model.eval()\n",
        "\n",
        "    y_test_pred = []\n",
        "    with torch.no_grad():\n",
        "        for batch in test_loader:\n",
        "            input_ids, attention_mask, labels = [data.to(device) for data in batch]\n",
        "            outputs = model(input_ids, attention_mask=attention_mask)\n",
        "            y_test_pred.extend(torch.argmax(outputs.logits, dim=1).cpu().tolist())\n",
        "\n",
        "    accuracy = accuracy_score(y_test, y_test_pred)\n",
        "    print(f\"Accuracy of {architecture_name} on test set: {accuracy} \\n\")\n",
        "\n",
        "    print(f\"Classification Report of {architecture_name} :\")\n",
        "    print(classification_report(y_test, y_test_pred, zero_division=0))"
      ]
    },
    {
      "cell_type": "markdown",
      "metadata": {},
      "source": [
        "#### Pre-trained model : Distilbert finetuned on SST2 and trained on the dataset (pas possible sans virer les neutres)"
      ]
    },
    {
      "cell_type": "code",
      "execution_count": null,
      "metadata": {
        "colab": {
          "base_uri": "https://localhost:8080/"
        },
        "id": "-BdZf7DLEysX",
        "outputId": "40a4e7a2-a820-48fe-b440-b5114eb36e1a"
      },
      "outputs": [],
      "source": [
        "# architecture_name = \"Distilbert finetuned on SST2 and trained on the dataset\"\n",
        "\n",
        "# if google_colab:\n",
        "#     # Try the use of GPU\n",
        "#     device = torch.device(\"cuda\" if torch.cuda.is_available() else \"cpu\")\n",
        "#     print(\"Using \", device)\n",
        "\n",
        "#     X = df['text']\n",
        "#     y = df['airline_sentiment']\n",
        "\n",
        "#     # Splitting the dataset\n",
        "#     X_train, X_test, y_train, y_test = train_test_split(X, y, test_size=0.2, random_state=42)\n",
        "\n",
        "#     # Load Distilbert finetuned on SST2 and its tokenizer\n",
        "#     tokenizer = AutoTokenizer.from_pretrained(\"distilbert-base-uncased-finetuned-sst-2-english\")\n",
        "#     model = AutoModelForSequenceClassification.from_pretrained(\"distilbert-base-uncased-finetuned-sst-2-english\").to(device)\n",
        "\n",
        "#     # Pre-processing the tweet\n",
        "#     inputs_train = tokenizer(X_train.tolist(), padding=True, truncation=True, return_tensors=\"pt\").to(device)\n",
        "#     inputs_test = tokenizer(X_test.tolist(), padding=True, truncation=True, return_tensors=\"pt\").to(device)\n",
        "\n",
        "#     # Pre-processing the y\n",
        "#     labels_train = torch.tensor(y_train.tolist()).to(device)\n",
        "#     labels_test = torch.tensor(y_test.tolist()).to(device)\n",
        "\n",
        "#     # Pre-processing the dataset\n",
        "#     train_dataset = TensorDataset(inputs_train['input_ids'], inputs_train['attention_mask'], labels_train)\n",
        "#     train_loader = DataLoader(train_dataset, batch_size=16, shuffle=True)\n",
        "#     test_dataset = TensorDataset(inputs_test['input_ids'], inputs_test['attention_mask'], labels_test)\n",
        "#     test_loader = DataLoader(test_dataset, batch_size=16, shuffle=False)\n",
        "\n",
        "#     # Training\n",
        "#     model.train()\n",
        "#     optimizer = AdamW(model.parameters(), lr=5e-5)\n",
        "#     criterion = torch.nn.CrossEntropyLoss()\n",
        "\n",
        "#     for epoch in range(3):\n",
        "#         for batch in train_loader:\n",
        "#             input_ids, attention_mask, labels = [data.to(device) for data in batch]\n",
        "#             optimizer.zero_grad()\n",
        "#             outputs = model(input_ids, attention_mask=attention_mask)\n",
        "#             loss = criterion(outputs.logits, labels)\n",
        "#             loss.backward()\n",
        "#             optimizer.step()\n",
        "\n",
        "#     # Evaluation\n",
        "#     model.eval()\n",
        "    \n",
        "#     y_train_pred = []\n",
        "#     with torch.no_grad():\n",
        "#         for batch in train_loader:\n",
        "#             input_ids, attention_mask, labels = [data.to(device) for data in batch]  \n",
        "#             outputs = model(input_ids, attention_mask=attention_mask)\n",
        "#             y_train_pred.extend(torch.argmax(outputs.logits, dim=1).cpu().tolist()) \n",
        "\n",
        "#     y_test_pred = []\n",
        "#     with torch.no_grad():\n",
        "#         for batch in test_loader:\n",
        "#             input_ids, attention_mask, labels = [data.to(device) for data in batch] \n",
        "#             outputs = model(input_ids, attention_mask=attention_mask)\n",
        "#             y_test_pred.extend(torch.argmax(outputs.logits, dim=1).cpu().tolist())\n",
        "\n",
        "\n",
        "#     accuracy = accuracy_score(y_train, y_train_pred)\n",
        "#     print(f\"Accuracy of {architecture_name} on train set: {accuracy}\")\n",
        "\n",
        "#     accuracy = accuracy_score(y_test, y_test_pred)\n",
        "#     print(f\"Accuracy of {architecture_name} on test set: {accuracy} \\n\")\n",
        "\n",
        "#     print(f\"Classification Report of {architecture_name} :\")\n",
        "#     print(classification_report(y_test, y_test_pred, zero_division=0))"
      ]
    },
    {
      "cell_type": "markdown",
      "metadata": {},
      "source": [
        "##### Logistic Regression TF 2-gram + TF-IDF 4-gram + TF-IDF + Vader compound score\n"
      ]
    },
    {
      "cell_type": "code",
      "execution_count": null,
      "metadata": {
        "id": "PYarZRTP2p0J"
      },
      "outputs": [],
      "source": [
        "architecture_name = \"Logistic Regression TF 2-gram + TF-IDF 4-gram + TF-IDF + Vader compound score\"\n",
        "\n",
        "vader = SentimentIntensityAnalyzer()\n",
        "\n",
        "def vader_sentiment_compound(text):\n",
        "    return vader.polarity_scores(text)['compound']\n",
        "\n",
        "df['vader_sentiment_compound'] = df['text'].apply(vader_sentiment_compound)\n",
        "\n",
        "X = df[['text', 'preprocessed_text', 'vader_sentiment_compound']]\n",
        "y = df['airline_sentiment']\n",
        "\n",
        "# Splitting the dataset\n",
        "X_train, X_test, y_train, y_test = train_test_split(X, y, test_size=0.2, random_state=42)\n",
        "\n",
        "# Pipeline Logistic Regression with TF 2-gram + TD-IDF 4-gram + TD-IDF + Vader compound score\n",
        "pipeline = Pipeline([\n",
        "    ('vectorizer', ColumnTransformer([\n",
        "        ('count', CountVectorizer(ngram_range=(1, 2)), 'text'),\n",
        "        ('tfidf', TfidfVectorizer(ngram_range=(1, 4)), 'text'),\n",
        "        ('tfidf2', TfidfVectorizer(max_features=5000), 'preprocessed_text'),\n",
        "        ('vader_sentiment_compound', 'passthrough', ['vader_sentiment_compound']),\n",
        "    ])),\n",
        "    ('classifier', LogisticRegression(max_iter=1000))\n",
        "])\n",
        "\n",
        "# Training the Pipeline\n",
        "pipeline.fit(X_train, y_train)\n",
        "\n",
        "# Evaluation\n",
        "y_train_pred = pipeline.predict(X_train)\n",
        "y_test_pred = pipeline.predict(X_test)\n",
        "\n",
        "metrics(y_train, y_train_pred, y_test, y_test_pred, architecture_name)"
      ]
    },
    {
      "cell_type": "markdown",
      "metadata": {},
      "source": [
        "#### Logistic Regression TF 2-gram + TF-IDF 4-gram + TF-IDF + tweet length\n"
      ]
    },
    {
      "cell_type": "code",
      "execution_count": null,
      "metadata": {},
      "outputs": [],
      "source": [
        "architecture_name = \"Logistic Regression TF 2-gram + TF-IDF 4-gram + TF-IDF + tweet length\"\n",
        "\n",
        "X = df[['text', 'preprocessed_text', 'tweet_length']]\n",
        "y = df['airline_sentiment']\n",
        "\n",
        "# Splitting the dataset\n",
        "X_train, X_test, y_train, y_test = train_test_split(X, y, test_size=0.2, random_state=42)\n",
        "\n",
        "# Pipeline Logistic Regression with TF 2-gram + TD-IDF 4-gram + TD-IDF\n",
        "pipeline = Pipeline([\n",
        "    ('vectorizer', ColumnTransformer([\n",
        "        ('count', CountVectorizer(ngram_range=(1, 2)), 'text'),\n",
        "        ('tfidf', TfidfVectorizer(ngram_range=(1, 4)), 'text'),\n",
        "        ('tfidf2', TfidfVectorizer(max_features=5000), 'preprocessed_text'),\n",
        "        ('tweet_length', 'passthrough', ['tweet_length'])\n",
        "    ])),\n",
        "    ('classifier', LogisticRegression(max_iter=1000))\n",
        "])\n",
        "\n",
        "# Training the Pipeline\n",
        "pipeline.fit(X_train, y_train)\n",
        "\n",
        "# Evaluation\n",
        "y_train_pred = pipeline.predict(X_train)\n",
        "y_test_pred = pipeline.predict(X_test)\n",
        "\n",
        "metrics(y_train, y_train_pred, y_test, y_test_pred, architecture_name)"
      ]
    },
    {
      "cell_type": "markdown",
      "metadata": {},
      "source": [
        "#### VADER sentiment analysis classifier"
      ]
    },
    {
      "cell_type": "code",
      "execution_count": null,
      "metadata": {},
      "outputs": [],
      "source": [
        "architecture_name = \"VADER sentiment analysis classifier\"\n",
        "\n",
        "vader = SentimentIntensityAnalyzer()\n",
        "\n",
        "def classify_sentiment(compound_score):\n",
        "    if compound_score >= 0.05:\n",
        "        return 1\n",
        "    elif compound_score <= -0.05:\n",
        "        return 0\n",
        "    else: \n",
        "        return 2\n",
        "\n",
        "df['vader_score'] = df['text'].apply(vader_sentiment_compound)\n",
        "\n",
        "df['vader_sentiment'] = df['vader_score'].apply(classify_sentiment)\n",
        "\n",
        "\n",
        "X = df['vader_sentiment']\n",
        "y = df['airline_sentiment']\n",
        "\n",
        "# Splitting the dataset\n",
        "X_train, X_test, y_train, y_test = train_test_split(X, y, test_size=0.2, random_state=42)\n",
        "\n",
        "\n",
        "# Evaluation\n",
        "y_train_pred = X_train\n",
        "y_test_pred = X_test\n",
        "\n",
        "metrics(y_train, y_train_pred, y_test, y_test_pred, architecture_name)"
      ]
    },
    {
      "cell_type": "markdown",
      "metadata": {},
      "source": [
        "#### Random Forest TF-IDF"
      ]
    },
    {
      "cell_type": "code",
      "execution_count": null,
      "metadata": {},
      "outputs": [],
      "source": [
        "architecture_name = \"Random Forest TF-IDF\"\n",
        "\n",
        "X = df['preprocessed_text']\n",
        "y = df['airline_sentiment']\n",
        "\n",
        "# Splitting the dataset\n",
        "X_train, X_test, y_train, y_test = train_test_split(X, y, test_size=0.2, random_state=42)\n",
        "\n",
        "# Pipeline with TF-IDF and Random Forest\n",
        "pipeline = Pipeline([\n",
        "    ('tfidf', TfidfVectorizer(max_features=5000)),\n",
        "    ('classifier', RandomForestClassifier(n_estimators=100, random_state=42))\n",
        "])\n",
        "\n",
        "# Training the Pipeline\n",
        "pipeline.fit(X_train, y_train)\n",
        "\n",
        "# Evaluation\n",
        "y_train_pred = pipeline.predict(X_train)\n",
        "y_test_pred = pipeline.predict(X_test)\n",
        "\n",
        "metrics(y_train, y_train_pred, y_test, y_test_pred, architecture_name)"
      ]
    },
    {
      "cell_type": "markdown",
      "metadata": {},
      "source": [
        "#### Random Forest TF 2-gram + TF-IDF 4-gram + TF-IDF + tweet length"
      ]
    },
    {
      "cell_type": "code",
      "execution_count": null,
      "metadata": {},
      "outputs": [],
      "source": [
        "architecture_name = \"Random Forest TF 2-gram + TF-IDF 4-gram + TF-IDF + tweet length\"\n",
        "\n",
        "X = df[['text', 'preprocessed_text', 'tweet_length']]\n",
        "y = df['airline_sentiment']\n",
        "\n",
        "# Splitting the dataset\n",
        "X_train, X_test, y_train, y_test = train_test_split(X, y, test_size=0.2, random_state=42)\n",
        "\n",
        "# Pipeline Logistic Regression with TF 2-gram + TD-IDF 4-gram + TD-IDF\n",
        "pipeline = Pipeline([\n",
        "    ('vectorizer', ColumnTransformer([\n",
        "        ('count', CountVectorizer(ngram_range=(1, 2)), 'text'),\n",
        "        ('tfidf', TfidfVectorizer(ngram_range=(1, 4)), 'text'),\n",
        "        ('tfidf2', TfidfVectorizer(max_features=5000), 'preprocessed_text'),\n",
        "        ('tweet_length', 'passthrough', ['tweet_length'])\n",
        "    ])),\n",
        "    ('classifier', RandomForestClassifier(n_estimators=100, random_state=42))\n",
        "])\n",
        "\n",
        "# Training the Pipeline\n",
        "pipeline.fit(X_train, y_train)\n",
        "\n",
        "# Evaluation\n",
        "y_train_pred = pipeline.predict(X_train)\n",
        "y_test_pred = pipeline.predict(X_test)\n",
        "\n",
        "metrics(y_train, y_train_pred, y_test, y_test_pred, architecture_name)"
      ]
    },
    {
      "cell_type": "markdown",
      "metadata": {},
      "source": [
        "#### Random Forest TF-IDF & tweet length"
      ]
    },
    {
      "cell_type": "code",
      "execution_count": null,
      "metadata": {},
      "outputs": [],
      "source": [
        "architecture_name = \"Random Forest TF-IDF & tweet length\"\n",
        "\n",
        "X = df[['preprocessed_text', 'tweet_length']]\n",
        "y = df['airline_sentiment']\n",
        "\n",
        "# Splitting the dataset\n",
        "X_train, X_test, y_train, y_test = train_test_split(X, y, test_size=0.2, random_state=42)\n",
        "\n",
        "# Pipeline Logistic Regression with TF-IDF & tweet length\n",
        "pipeline = Pipeline([\n",
        "    ('column_transformer', ColumnTransformer([\n",
        "        ('tfidf', TfidfVectorizer(max_features=5000), 'preprocessed_text'),\n",
        "        ('tweet_length', 'passthrough', ['tweet_length'])\n",
        "    ])),\n",
        "    ('classifier', RandomForestClassifier(n_estimators=100, random_state=42))\n",
        "])\n",
        "\n",
        "# Training the Pipeline\n",
        "pipeline.fit(X_train, y_train)\n",
        "\n",
        "# Evaluation\n",
        "y_train_pred = pipeline.predict(X_train)\n",
        "y_test_pred = pipeline.predict(X_test)\n",
        "\n",
        "metrics(y_train, y_train_pred, y_test, y_test_pred, architecture_name)"
      ]
    },
    {
      "cell_type": "markdown",
      "metadata": {},
      "source": [
        "#### Random Forest TF-IDF 2-gram"
      ]
    },
    {
      "cell_type": "code",
      "execution_count": null,
      "metadata": {},
      "outputs": [],
      "source": [
        "architecture_name = \"Random Forest TF-IDF 2-gram\"\n",
        "\n",
        "X = df['text']\n",
        "y = df['airline_sentiment']\n",
        "\n",
        "# Splitting the dataset\n",
        "X_train, X_test, y_train, y_test = train_test_split(X, y, test_size=0.2, random_state=42)\n",
        "\n",
        "# Pipeline Logistic Regression with TF 1-gram and 2-gram\n",
        "pipeline = Pipeline([\n",
        "    ('tfidf', TfidfVectorizer(ngram_range=(1, 2))),\n",
        "    ('classifier', RandomForestClassifier(n_estimators=100, random_state=42))\n",
        "])\n",
        "\n",
        "# Training the Pipeline\n",
        "pipeline.fit(X_train, y_train)\n",
        "\n",
        "# Evaluation\n",
        "y_train_pred = pipeline.predict(X_train)\n",
        "y_test_pred = pipeline.predict(X_test)\n",
        "\n",
        "metrics(y_train, y_train_pred, y_test, y_test_pred, architecture_name)"
      ]
    },
    {
      "cell_type": "markdown",
      "metadata": {},
      "source": [
        "#### Logistic Regression presence of words"
      ]
    },
    {
      "cell_type": "code",
      "execution_count": null,
      "metadata": {},
      "outputs": [],
      "source": [
        "architecture_name = \"Logistic Regression presence of words\"\n",
        "\n",
        "X = df['preprocessed_text']\n",
        "y = df['airline_sentiment']\n",
        "\n",
        "# Splitting the dataset\n",
        "X_train, X_test, y_train, y_test = train_test_split(X, y, test_size=0.2, random_state=42)\n",
        "\n",
        "# Pipeline Logistic Regression with TF-IDF\n",
        "pipeline = Pipeline([\n",
        "    ('tfidf', CountVectorizer(binary=True)),\n",
        "    ('classifier', LogisticRegression(max_iter=1000))\n",
        "])\n",
        "\n",
        "# Training the Pipeline\n",
        "pipeline.fit(X_train, y_train)\n",
        "\n",
        "# Evaluation\n",
        "y_train_pred = pipeline.predict(X_train)\n",
        "y_test_pred = pipeline.predict(X_test)\n",
        "\n",
        "metrics(y_train, y_train_pred, y_test, y_test_pred, architecture_name)"
      ]
    },
    {
      "cell_type": "markdown",
      "metadata": {},
      "source": [
        "#### Distilbert"
      ]
    },
    {
      "cell_type": "code",
      "execution_count": null,
      "metadata": {},
      "outputs": [],
      "source": [
        "architecture_name = \"Distilbert\"\n",
        "google_colab = True\n",
        "if google_colab:\n",
        "    device = torch.device(\"cuda\" if torch.cuda.is_available() else \"cpu\")\n",
        "    print(\"Using \", device)\n",
        "    X = df['text']\n",
        "    y = df['airline_sentiment']\n",
        "\n",
        "    # Splitting the dataset\n",
        "    X_train, X_test, y_train, y_test = train_test_split(X, y, test_size=0.2, random_state=42)\n",
        "\n",
        "    # Load Distilbert finetuned on SST2 and its tokenizer\n",
        "    tokenizer = DistilBertTokenizer.from_pretrained('distilbert-base-uncased')\n",
        "    model = DistilBertForSequenceClassification.from_pretrained('distilbert-base-uncased', num_labels=3).to(device)\n",
        "\n",
        "    # Pre-processing the tweet\n",
        "    inputs_test = tokenizer(X_test.tolist(), padding=True, truncation=True, return_tensors=\"pt\").to(device)\n",
        "\n",
        "    # Pre-processing the y\n",
        "    labels_test = torch.tensor(y_test.tolist()).to(device)\n",
        "\n",
        "    # Pre-processing the dataset\n",
        "    test_dataset = TensorDataset(inputs_test['input_ids'], inputs_test['attention_mask'], labels_test)\n",
        "    test_loader = DataLoader(test_dataset, batch_size=16, shuffle=False)\n",
        "\n",
        "\n",
        "    # Evaluation\n",
        "    model.eval()\n",
        "\n",
        "    y_test_pred = []\n",
        "    with torch.no_grad():\n",
        "        for batch in test_loader:\n",
        "            input_ids, attention_mask, labels = [data.to(device) for data in batch]\n",
        "            outputs = model(input_ids, attention_mask=attention_mask)\n",
        "            y_test_pred.extend(torch.argmax(outputs.logits, dim=1).cpu().tolist())\n",
        "\n",
        "    accuracy = accuracy_score(y_test, y_test_pred)\n",
        "    print(f\"Accuracy of {architecture_name} on test set: {accuracy} \\n\")\n",
        "\n",
        "    print(f\"Classification Report of {architecture_name} :\")\n",
        "    print(classification_report(y_test, y_test_pred, zero_division=0))"
      ]
    },
    {
      "cell_type": "markdown",
      "metadata": {},
      "source": [
        "#### Distilbert fine-tuned on the dataset"
      ]
    },
    {
      "cell_type": "code",
      "execution_count": 32,
      "metadata": {},
      "outputs": [
        {
          "name": "stdout",
          "output_type": "stream",
          "text": [
            "Using  cuda\n"
          ]
        },
        {
          "name": "stderr",
          "output_type": "stream",
          "text": [
            "Some weights of DistilBertForSequenceClassification were not initialized from the model checkpoint at distilbert-base-uncased and are newly initialized: ['classifier.bias', 'classifier.weight', 'pre_classifier.bias', 'pre_classifier.weight']\n",
            "You should probably TRAIN this model on a down-stream task to be able to use it for predictions and inference.\n"
          ]
        },
        {
          "name": "stdout",
          "output_type": "stream",
          "text": [
            "Accuracy of Distilbert fine-tuned on the dataset on train set: 0.46263375906109766\n",
            "Accuracy of Distilbert fine-tuned on the dataset on test set: 0.843631342768381 \n",
            "\n",
            "Classification Report of Distilbert fine-tuned on the dataset :\n",
            "              precision    recall  f1-score   support\n",
            "\n",
            "           0       0.90      0.92      0.91      1870\n",
            "           1       0.73      0.85      0.78       422\n",
            "           2       0.74      0.61      0.67       605\n",
            "\n",
            "    accuracy                           0.84      2897\n",
            "   macro avg       0.79      0.79      0.79      2897\n",
            "weighted avg       0.84      0.84      0.84      2897\n",
            "\n"
          ]
        }
      ],
      "source": [
        "architecture_name = \"Distilbert fine-tuned on the dataset\"\n",
        "\n",
        "if google_colab:\n",
        "    # Try the use of GPU\n",
        "    device = torch.device(\"cuda\" if torch.cuda.is_available() else \"cpu\")\n",
        "    print(\"Using \", device)\n",
        "\n",
        "    X = df['text']\n",
        "    y = df['airline_sentiment']\n",
        "\n",
        "    # Splitting the dataset\n",
        "    X_train, X_test, y_train, y_test = train_test_split(X, y, test_size=0.2, random_state=42)\n",
        "\n",
        "    # Load Distilbert and its tokenizer\n",
        "    tokenizer = DistilBertTokenizer.from_pretrained('distilbert-base-uncased')\n",
        "    model = DistilBertForSequenceClassification.from_pretrained('distilbert-base-uncased', num_labels=3).to(device)\n",
        "\n",
        "    # Pre-processing the tweet\n",
        "    inputs_train = tokenizer(X_train.tolist(), padding=True, truncation=True, return_tensors=\"pt\").to(device)\n",
        "    inputs_test = tokenizer(X_test.tolist(), padding=True, truncation=True, return_tensors=\"pt\").to(device)\n",
        "\n",
        "    # Pre-processing the y\n",
        "    labels_train = torch.tensor(y_train.tolist()).to(device)\n",
        "    labels_test = torch.tensor(y_test.tolist()).to(device)\n",
        "\n",
        "    # Pre-processing the dataset\n",
        "    train_dataset = TensorDataset(inputs_train['input_ids'], inputs_train['attention_mask'], labels_train)\n",
        "    train_loader = DataLoader(train_dataset, batch_size=16, shuffle=True)\n",
        "    test_dataset = TensorDataset(inputs_test['input_ids'], inputs_test['attention_mask'], labels_test)\n",
        "    test_loader = DataLoader(test_dataset, batch_size=16, shuffle=False)\n",
        "\n",
        "    # Training\n",
        "    model.train()\n",
        "\n",
        "    optimizer = AdamW(model.parameters(), lr=1e-5)\n",
        "    criterion = torch.nn.CrossEntropyLoss()\n",
        "\n",
        "    for epoch in range(3):\n",
        "        for batch in train_loader:\n",
        "            input_ids, attention_mask, labels = [data.to(device) for data in batch]\n",
        "            optimizer.zero_grad()\n",
        "            outputs = model(input_ids, attention_mask=attention_mask)\n",
        "            loss = criterion(outputs.logits, labels)\n",
        "            loss.backward()\n",
        "            optimizer.step()\n",
        "\n",
        "    # Evaluation\n",
        "    model.eval()\n",
        "    y_train_pred = []\n",
        "    with torch.no_grad():\n",
        "        for batch in train_loader:\n",
        "            input_ids, attention_mask, labels = [data.to(device) for data in batch]\n",
        "            outputs = model(input_ids, attention_mask=attention_mask)\n",
        "            y_train_pred.extend(torch.argmax(outputs.logits, dim=1).cpu().tolist())\n",
        "\n",
        "    y_test_pred = []\n",
        "    with torch.no_grad():\n",
        "        for batch in test_loader:\n",
        "            input_ids, attention_mask, labels = [data.to(device) for data in batch]\n",
        "            outputs = model(input_ids, attention_mask=attention_mask)\n",
        "            y_test_pred.extend(torch.argmax(outputs.logits, dim=1).cpu().tolist())\n",
        "\n",
        "\n",
        "    metrics(y_train, y_train_pred, y_test, y_test_pred, architecture_name)"
      ]
    },
    {
      "cell_type": "code",
      "execution_count": 31,
      "metadata": {},
      "outputs": [
        {
          "name": "stdout",
          "output_type": "stream",
          "text": [
            "Using  cuda\n"
          ]
        },
        {
          "name": "stderr",
          "output_type": "stream",
          "text": [
            "Some weights of DistilBertForSequenceClassification were not initialized from the model checkpoint at distilbert-base-uncased and are newly initialized: ['classifier.bias', 'classifier.weight', 'pre_classifier.bias', 'pre_classifier.weight']\n",
            "You should probably TRAIN this model on a down-stream task to be able to use it for predictions and inference.\n"
          ]
        },
        {
          "name": "stdout",
          "output_type": "stream",
          "text": [
            "Accuracy of Distilbert fine-tuned on the dataset with lr=1e-07 on test set: 0.6454953400069037 \n",
            "\n"
          ]
        },
        {
          "name": "stderr",
          "output_type": "stream",
          "text": [
            "Some weights of DistilBertForSequenceClassification were not initialized from the model checkpoint at distilbert-base-uncased and are newly initialized: ['classifier.bias', 'classifier.weight', 'pre_classifier.bias', 'pre_classifier.weight']\n",
            "You should probably TRAIN this model on a down-stream task to be able to use it for predictions and inference.\n"
          ]
        },
        {
          "name": "stdout",
          "output_type": "stream",
          "text": [
            "Accuracy of Distilbert fine-tuned on the dataset with lr=5e-07 on test set: 0.804280289955126 \n",
            "\n"
          ]
        },
        {
          "name": "stderr",
          "output_type": "stream",
          "text": [
            "Some weights of DistilBertForSequenceClassification were not initialized from the model checkpoint at distilbert-base-uncased and are newly initialized: ['classifier.bias', 'classifier.weight', 'pre_classifier.bias', 'pre_classifier.weight']\n",
            "You should probably TRAIN this model on a down-stream task to be able to use it for predictions and inference.\n"
          ]
        },
        {
          "name": "stdout",
          "output_type": "stream",
          "text": [
            "Accuracy of Distilbert fine-tuned on the dataset with lr=1e-06 on test set: 0.8184328615809459 \n",
            "\n"
          ]
        },
        {
          "name": "stderr",
          "output_type": "stream",
          "text": [
            "Some weights of DistilBertForSequenceClassification were not initialized from the model checkpoint at distilbert-base-uncased and are newly initialized: ['classifier.bias', 'classifier.weight', 'pre_classifier.bias', 'pre_classifier.weight']\n",
            "You should probably TRAIN this model on a down-stream task to be able to use it for predictions and inference.\n"
          ]
        },
        {
          "name": "stdout",
          "output_type": "stream",
          "text": [
            "Accuracy of Distilbert fine-tuned on the dataset with lr=5e-06 on test set: 0.8405246807041767 \n",
            "\n"
          ]
        },
        {
          "name": "stderr",
          "output_type": "stream",
          "text": [
            "Some weights of DistilBertForSequenceClassification were not initialized from the model checkpoint at distilbert-base-uncased and are newly initialized: ['classifier.bias', 'classifier.weight', 'pre_classifier.bias', 'pre_classifier.weight']\n",
            "You should probably TRAIN this model on a down-stream task to be able to use it for predictions and inference.\n"
          ]
        },
        {
          "name": "stdout",
          "output_type": "stream",
          "text": [
            "Accuracy of Distilbert fine-tuned on the dataset with lr=1e-05 on test set: 0.8463928201587849 \n",
            "\n"
          ]
        },
        {
          "name": "stderr",
          "output_type": "stream",
          "text": [
            "Some weights of DistilBertForSequenceClassification were not initialized from the model checkpoint at distilbert-base-uncased and are newly initialized: ['classifier.bias', 'classifier.weight', 'pre_classifier.bias', 'pre_classifier.weight']\n",
            "You should probably TRAIN this model on a down-stream task to be able to use it for predictions and inference.\n"
          ]
        },
        {
          "name": "stdout",
          "output_type": "stream",
          "text": [
            "Accuracy of Distilbert fine-tuned on the dataset with lr=5e-05 on test set: 0.8180876769071453 \n",
            "\n"
          ]
        },
        {
          "name": "stderr",
          "output_type": "stream",
          "text": [
            "Some weights of DistilBertForSequenceClassification were not initialized from the model checkpoint at distilbert-base-uncased and are newly initialized: ['classifier.bias', 'classifier.weight', 'pre_classifier.bias', 'pre_classifier.weight']\n",
            "You should probably TRAIN this model on a down-stream task to be able to use it for predictions and inference.\n"
          ]
        },
        {
          "name": "stdout",
          "output_type": "stream",
          "text": [
            "Accuracy of Distilbert fine-tuned on the dataset with lr=0.0001 on test set: 0.8194684156023473 \n",
            "\n"
          ]
        },
        {
          "name": "stderr",
          "output_type": "stream",
          "text": [
            "Some weights of DistilBertForSequenceClassification were not initialized from the model checkpoint at distilbert-base-uncased and are newly initialized: ['classifier.bias', 'classifier.weight', 'pre_classifier.bias', 'pre_classifier.weight']\n",
            "You should probably TRAIN this model on a down-stream task to be able to use it for predictions and inference.\n"
          ]
        },
        {
          "name": "stdout",
          "output_type": "stream",
          "text": [
            "Accuracy of Distilbert fine-tuned on the dataset with lr=0.0005 on test set: 0.6454953400069037 \n",
            "\n"
          ]
        },
        {
          "name": "stderr",
          "output_type": "stream",
          "text": [
            "Some weights of DistilBertForSequenceClassification were not initialized from the model checkpoint at distilbert-base-uncased and are newly initialized: ['classifier.bias', 'classifier.weight', 'pre_classifier.bias', 'pre_classifier.weight']\n",
            "You should probably TRAIN this model on a down-stream task to be able to use it for predictions and inference.\n"
          ]
        },
        {
          "name": "stdout",
          "output_type": "stream",
          "text": [
            "Accuracy of Distilbert fine-tuned on the dataset with lr=0.001 on test set: 0.6454953400069037 \n",
            "\n"
          ]
        },
        {
          "name": "stderr",
          "output_type": "stream",
          "text": [
            "Some weights of DistilBertForSequenceClassification were not initialized from the model checkpoint at distilbert-base-uncased and are newly initialized: ['classifier.bias', 'classifier.weight', 'pre_classifier.bias', 'pre_classifier.weight']\n",
            "You should probably TRAIN this model on a down-stream task to be able to use it for predictions and inference.\n"
          ]
        },
        {
          "name": "stdout",
          "output_type": "stream",
          "text": [
            "Accuracy of Distilbert fine-tuned on the dataset with lr=0.05 on test set: 0.6454953400069037 \n",
            "\n"
          ]
        },
        {
          "name": "stderr",
          "output_type": "stream",
          "text": [
            "Some weights of DistilBertForSequenceClassification were not initialized from the model checkpoint at distilbert-base-uncased and are newly initialized: ['classifier.bias', 'classifier.weight', 'pre_classifier.bias', 'pre_classifier.weight']\n",
            "You should probably TRAIN this model on a down-stream task to be able to use it for predictions and inference.\n"
          ]
        },
        {
          "name": "stdout",
          "output_type": "stream",
          "text": [
            "Accuracy of Distilbert fine-tuned on the dataset with lr=0.01 on test set: 0.6454953400069037 \n",
            "\n"
          ]
        },
        {
          "name": "stderr",
          "output_type": "stream",
          "text": [
            "Some weights of DistilBertForSequenceClassification were not initialized from the model checkpoint at distilbert-base-uncased and are newly initialized: ['classifier.bias', 'classifier.weight', 'pre_classifier.bias', 'pre_classifier.weight']\n",
            "You should probably TRAIN this model on a down-stream task to be able to use it for predictions and inference.\n"
          ]
        },
        {
          "name": "stdout",
          "output_type": "stream",
          "text": [
            "Accuracy of Distilbert fine-tuned on the dataset with lr=0.5 on test set: 0.6454953400069037 \n",
            "\n"
          ]
        },
        {
          "name": "stderr",
          "output_type": "stream",
          "text": [
            "Some weights of DistilBertForSequenceClassification were not initialized from the model checkpoint at distilbert-base-uncased and are newly initialized: ['classifier.bias', 'classifier.weight', 'pre_classifier.bias', 'pre_classifier.weight']\n",
            "You should probably TRAIN this model on a down-stream task to be able to use it for predictions and inference.\n"
          ]
        },
        {
          "name": "stdout",
          "output_type": "stream",
          "text": [
            "Accuracy of Distilbert fine-tuned on the dataset with lr=0.1 on test set: 0.6454953400069037 \n",
            "\n"
          ]
        }
      ],
      "source": [
        "architecture_name = \"Distilbert fine-tuned on the dataset\"\n",
        "google_colab = True\n",
        "if google_colab:\n",
        "    # Try the use of GPU\n",
        "    device = torch.device(\"cuda\" if torch.cuda.is_available() else \"cpu\")\n",
        "    print(\"Using \", device)\n",
        "\n",
        "    X = df['text']\n",
        "    y = df['airline_sentiment']\n",
        "\n",
        "    # Splitting the dataset\n",
        "    X_train, X_test, y_train, y_test = train_test_split(X, y, test_size=0.2, random_state=42)\n",
        "    learning_rates = [1e-7, 5e-7, 1e-6, 5e-6, 1e-5, 5e-5, 1e-4, 5e-4, 1e-3, 5e-2, 1e-2, 5e-1, 1e-1]\n",
        "    for lr in learning_rates:\n",
        "        # Load Distilbert and its tokenizer\n",
        "        tokenizer = DistilBertTokenizer.from_pretrained('distilbert-base-uncased')\n",
        "        model = DistilBertForSequenceClassification.from_pretrained('distilbert-base-uncased', num_labels=3).to(device)\n",
        "\n",
        "        # Pre-processing the tweet\n",
        "        inputs_train = tokenizer(X_train.tolist(), padding=True, truncation=True, return_tensors=\"pt\").to(device)\n",
        "        inputs_test = tokenizer(X_test.tolist(), padding=True, truncation=True, return_tensors=\"pt\").to(device)\n",
        "\n",
        "        # Pre-processing the y\n",
        "        labels_train = torch.tensor(y_train.tolist()).to(device)\n",
        "        labels_test = torch.tensor(y_test.tolist()).to(device)\n",
        "\n",
        "        # Pre-processing the dataset\n",
        "        train_dataset = TensorDataset(inputs_train['input_ids'], inputs_train['attention_mask'], labels_train)\n",
        "        train_loader = DataLoader(train_dataset, batch_size=16, shuffle=True)\n",
        "        test_dataset = TensorDataset(inputs_test['input_ids'], inputs_test['attention_mask'], labels_test)\n",
        "        test_loader = DataLoader(test_dataset, batch_size=16, shuffle=False)\n",
        "\n",
        "        # Training\n",
        "        model.train()\n",
        "        \n",
        "        optimizer = AdamW(model.parameters(), lr=lr)\n",
        "        criterion = torch.nn.CrossEntropyLoss()\n",
        "\n",
        "        for epoch in range(3):\n",
        "            for batch in train_loader:\n",
        "                input_ids, attention_mask, labels = [data.to(device) for data in batch]\n",
        "                optimizer.zero_grad()\n",
        "                outputs = model(input_ids, attention_mask=attention_mask)\n",
        "                loss = criterion(outputs.logits, labels)\n",
        "                loss.backward()\n",
        "                optimizer.step()\n",
        "\n",
        "        # Evaluation\n",
        "        model.eval()\n",
        "\n",
        "        y_test_pred = []\n",
        "        with torch.no_grad():\n",
        "            for batch in test_loader:\n",
        "                input_ids, attention_mask, labels = [data.to(device) for data in batch]\n",
        "                outputs = model(input_ids, attention_mask=attention_mask)\n",
        "                y_test_pred.extend(torch.argmax(outputs.logits, dim=1).cpu().tolist())\n",
        "                \n",
        "        accuracy = accuracy_score(y_test, y_test_pred)\n",
        "        print(f\"Accuracy of {architecture_name} with lr={lr} on test set: {accuracy} \\n\")"
      ]
    },
    {
      "cell_type": "code",
      "execution_count": 39,
      "metadata": {},
      "outputs": [
        {
          "name": "stdout",
          "output_type": "stream",
          "text": [
            "Using  cuda\n"
          ]
        },
        {
          "name": "stderr",
          "output_type": "stream",
          "text": [
            "Some weights of BertForSequenceClassification were not initialized from the model checkpoint at bert-base-uncased and are newly initialized: ['classifier.bias', 'classifier.weight']\n",
            "You should probably TRAIN this model on a down-stream task to be able to use it for predictions and inference.\n"
          ]
        },
        {
          "name": "stdout",
          "output_type": "stream",
          "text": [
            "Accuracy of Bert fine-tuned on the dataset on train set: 0.46712115982050395\n",
            "Accuracy of Bert fine-tuned on the dataset on test set: 0.8477735588539869 \n",
            "\n",
            "Classification Report of Bert fine-tuned on the dataset :\n",
            "              precision    recall  f1-score   support\n",
            "\n",
            "           0       0.89      0.93      0.91      1870\n",
            "           1       0.78      0.77      0.78       422\n",
            "           2       0.73      0.63      0.68       605\n",
            "\n",
            "    accuracy                           0.85      2897\n",
            "   macro avg       0.80      0.78      0.79      2897\n",
            "weighted avg       0.84      0.85      0.84      2897\n",
            "\n"
          ]
        }
      ],
      "source": [
        "architecture_name = \"Bert fine-tuned on the dataset\"\n",
        "\n",
        "if google_colab:\n",
        "    # Try the use of GPU\n",
        "    device = torch.device(\"cuda\" if torch.cuda.is_available() else \"cpu\")\n",
        "    print(\"Using \", device)\n",
        "\n",
        "    X = df['text']\n",
        "    y = df['airline_sentiment']\n",
        "    \n",
        "    # Splitting the dataset\n",
        "    X_train, X_test, y_train, y_test = train_test_split(X, y, test_size=0.2, random_state=42)\n",
        "\n",
        "    # Load BERT and its tokenizer\n",
        "    tokenizer = BertTokenizer.from_pretrained('bert-base-uncased')\n",
        "    model = BertForSequenceClassification.from_pretrained('bert-base-uncased', num_labels=3).to(device)\n",
        "\n",
        "    # Pre-processing the tweet\n",
        "    inputs_train = tokenizer(X_train.tolist(), padding=True, truncation=True, return_tensors=\"pt\")\n",
        "    inputs_test = tokenizer(X_test.tolist(), padding=True, truncation=True, return_tensors=\"pt\")\n",
        "\n",
        "    # Pre-processing the y\n",
        "    labels_train = torch.tensor(y_train.tolist())\n",
        "    labels_test = torch.tensor(y_test.tolist())\n",
        "\n",
        "    # Pre-processing the dataset\n",
        "    train_dataset = TensorDataset(inputs_train['input_ids'], inputs_train['attention_mask'], labels_train)\n",
        "    train_loader = DataLoader(train_dataset, batch_size=16, shuffle=True)\n",
        "    test_dataset = TensorDataset(inputs_test['input_ids'], inputs_test['attention_mask'], labels_test)\n",
        "    test_loader = DataLoader(test_dataset, batch_size=16, shuffle=False)\n",
        "\n",
        "    # Training\n",
        "    model.train()\n",
        "    optimizer = AdamW(model.parameters(), lr=1e-5)\n",
        "    criterion = torch.nn.CrossEntropyLoss()\n",
        "\n",
        "    for epoch in range(3):\n",
        "        for batch in train_loader:\n",
        "            input_ids, attention_mask, labels = [data.to(device) for data in batch]\n",
        "            optimizer.zero_grad()\n",
        "            outputs = model(input_ids, attention_mask=attention_mask)\n",
        "            loss = criterion(outputs.logits, labels)\n",
        "            loss.backward()\n",
        "            optimizer.step()\n",
        "\n",
        "    # Evaluation\n",
        "    model.eval()\n",
        "    y_train_pred = []\n",
        "    with torch.no_grad():\n",
        "        for batch in train_loader:\n",
        "            input_ids, attention_mask, labels = [data.to(device) for data in batch]\n",
        "            outputs = model(input_ids, attention_mask=attention_mask)\n",
        "            y_train_pred.extend(torch.argmax(outputs.logits, dim=1).cpu().tolist())\n",
        "\n",
        "    y_test_pred = []\n",
        "    with torch.no_grad():\n",
        "        for batch in test_loader:\n",
        "            input_ids, attention_mask, labels = [data.to(device) for data in batch]\n",
        "            outputs = model(input_ids, attention_mask=attention_mask)\n",
        "            y_test_pred.extend(torch.argmax(outputs.logits, dim=1).cpu().tolist())\n",
        "\n",
        "    metrics(y_train, y_train_pred, y_test, y_test_pred, architecture_name)\n"
      ]
    },
    {
      "cell_type": "code",
      "execution_count": 44,
      "metadata": {},
      "outputs": [
        {
          "name": "stdout",
          "output_type": "stream",
          "text": [
            "Using  cuda\n"
          ]
        },
        {
          "name": "stderr",
          "output_type": "stream",
          "text": [
            "Some weights of RobertaForSequenceClassification were not initialized from the model checkpoint at roberta-base and are newly initialized: ['classifier.dense.bias', 'classifier.dense.weight', 'classifier.out_proj.bias', 'classifier.out_proj.weight']\n",
            "You should probably TRAIN this model on a down-stream task to be able to use it for predictions and inference.\n"
          ]
        },
        {
          "name": "stdout",
          "output_type": "stream",
          "text": [
            "Accuracy of RoBERTa fine-tuned on the dataset on train set: 0.45875043148084227\n",
            "Accuracy of RoBERTa fine-tuned on the dataset on test set: 0.8581290990680014 \n",
            "\n",
            "Classification Report of RoBERTa fine-tuned on the dataset :\n",
            "              precision    recall  f1-score   support\n",
            "\n",
            "           0       0.94      0.90      0.92      1870\n",
            "           1       0.78      0.83      0.80       422\n",
            "           2       0.69      0.75      0.72       605\n",
            "\n",
            "    accuracy                           0.86      2897\n",
            "   macro avg       0.80      0.83      0.81      2897\n",
            "weighted avg       0.86      0.86      0.86      2897\n",
            "\n"
          ]
        }
      ],
      "source": [
        "architecture_name = \"RoBERTa fine-tuned on the dataset\"\n",
        "\n",
        "if google_colab:\n",
        "    # Try the use of GPU\n",
        "    device = torch.device(\"cuda\" if torch.cuda.is_available() else \"cpu\")\n",
        "    print(\"Using \", device)\n",
        "\n",
        "    X = df['text']\n",
        "    y = df['airline_sentiment']\n",
        "    \n",
        "    # Splitting the dataset\n",
        "    X_train, X_test, y_train, y_test = train_test_split(X, y, test_size=0.2, random_state=42)\n",
        "\n",
        "    # Load BERT and its tokenizer\n",
        "    tokenizer = RobertaTokenizer.from_pretrained('roberta-base')\n",
        "    model = RobertaForSequenceClassification.from_pretrained('roberta-base', num_labels=3).to(device)\n",
        "\n",
        "\n",
        "    # Pre-processing the tweet\n",
        "    inputs_train = tokenizer(X_train.tolist(), padding=True, truncation=True, return_tensors=\"pt\")\n",
        "    inputs_test = tokenizer(X_test.tolist(), padding=True, truncation=True, return_tensors=\"pt\")\n",
        "\n",
        "    # Pre-processing the y\n",
        "    labels_train = torch.tensor(y_train.tolist())\n",
        "    labels_test = torch.tensor(y_test.tolist())\n",
        "\n",
        "    # Pre-processing the dataset\n",
        "    train_dataset = TensorDataset(inputs_train['input_ids'], inputs_train['attention_mask'], labels_train)\n",
        "    train_loader = DataLoader(train_dataset, batch_size=16, shuffle=True)\n",
        "    test_dataset = TensorDataset(inputs_test['input_ids'], inputs_test['attention_mask'], labels_test)\n",
        "    test_loader = DataLoader(test_dataset, batch_size=16, shuffle=False)\n",
        "\n",
        "    # Training\n",
        "    model.train()\n",
        "    optimizer = AdamW(model.parameters(), lr=1e-5)\n",
        "    criterion = torch.nn.CrossEntropyLoss()\n",
        "\n",
        "    for epoch in range(3):\n",
        "        for batch in train_loader:\n",
        "            input_ids, attention_mask, labels = [data.to(device) for data in batch]\n",
        "            optimizer.zero_grad()\n",
        "            outputs = model(input_ids, attention_mask=attention_mask)\n",
        "            loss = criterion(outputs.logits, labels)\n",
        "            loss.backward()\n",
        "            optimizer.step()\n",
        "\n",
        "    # Evaluation\n",
        "    model.eval()\n",
        "    y_train_pred = []\n",
        "    with torch.no_grad():\n",
        "        for batch in train_loader:\n",
        "            input_ids, attention_mask, labels = [data.to(device) for data in batch]\n",
        "            outputs = model(input_ids, attention_mask=attention_mask)\n",
        "            y_train_pred.extend(torch.argmax(outputs.logits, dim=1).cpu().tolist())\n",
        "\n",
        "    y_test_pred = []\n",
        "    with torch.no_grad():\n",
        "        for batch in test_loader:\n",
        "            input_ids, attention_mask, labels = [data.to(device) for data in batch]\n",
        "            outputs = model(input_ids, attention_mask=attention_mask)\n",
        "            y_test_pred.extend(torch.argmax(outputs.logits, dim=1).cpu().tolist())\n",
        "\n",
        "    metrics(y_train, y_train_pred, y_test, y_test_pred, architecture_name)\n"
      ]
    }
  ],
  "metadata": {
    "accelerator": "GPU",
    "colab": {
      "gpuType": "T4",
      "provenance": []
    },
    "kernelspec": {
      "display_name": "Python 3 (ipykernel)",
      "language": "python",
      "name": "python3"
    },
    "language_info": {
      "codemirror_mode": {
        "name": "ipython",
        "version": 3
      },
      "file_extension": ".py",
      "mimetype": "text/x-python",
      "name": "python",
      "nbconvert_exporter": "python",
      "pygments_lexer": "ipython3",
      "version": "3.10.12"
    }
  },
  "nbformat": 4,
  "nbformat_minor": 0
}
